{
 "cells": [
  {
   "cell_type": "code",
   "execution_count": 19,
   "id": "4d45dfea-b5ab-4ee0-81db-982a5de12b8e",
   "metadata": {},
   "outputs": [],
   "source": [
    "# import libraries\n",
    "import numpy as np\n",
    "import pandas as pd\n",
    "import matplotlib.pyplot as plt\n",
    "import torch\n",
    "from torch import nn\n",
    "from torch.nn import functional as F\n",
    "from torch.utils.data import Dataset, DataLoader\n",
    "from torchvision import datasets, transforms\n",
    "from torchvision.utils import make_grid\n",
    "from tqdm import tqdm\n",
    "from sklearn import preprocessing\n",
    "from sklearn.preprocessing import StandardScaler\n",
    "from sklearn.preprocessing import MinMaxScaler\n",
    "from sklearn.impute import SimpleImputer\n",
    "import torch.optim as optim\n",
    "from torch.autograd import Variable\n",
    "from torch import FloatTensor, LongTensor\n",
    "import joblib"
   ]
  },
  {
   "cell_type": "code",
   "execution_count": 20,
   "id": "645898be-0d8e-400b-bf4d-6339c2253208",
   "metadata": {},
   "outputs": [],
   "source": [
    "# selected_features_nb15 = ['dsport', 'dur', 'Spkts', 'Dpkts', 'sbytes', 'dbytes', 'smeansz', \n",
    "#                           'dmeansz', 'flow_bytes/s', 'flow_packets/s', 'fwd_packets/s', 'bwd_packets/s']\n",
    "\n",
    "# selected_features_total = selected_features_nb15\n",
    "    "
   ]
  },
  {
   "cell_type": "code",
   "execution_count": 21,
   "id": "cf915d9a-c8de-4044-9c9b-3f63660fd549",
   "metadata": {},
   "outputs": [],
   "source": [
    "class PreProcessor:\n",
    "    def __init__(self, file_path):\n",
    "        self.input_dataset = pd.read_csv(file_path)\n",
    "        #self.selected_features = selected_features\n",
    "        \n",
    "    def print_input_data(self):\n",
    "        print('The input dataset has the following columns/features')\n",
    "        print(self.input_dataset.columns)\n",
    "        labels = self.input_dataset['Label']\n",
    "        print('The labels are as follows')\n",
    "        print(labels.value_counts())\n",
    "        print(labels.value_counts().plot.pie())\n",
    "        \n",
    "    def preprocess(self):\n",
    "        X, y = self.feature_selection()\n",
    "        X = self.imputing(X)\n",
    "        X = self.scaling(X)\n",
    "        y = self.label_binarization(y)\n",
    "        self.data = torch.tensor(X)\n",
    "        self.targets = torch.tensor(y)\n",
    "        \n",
    "    def feature_selection(self):\n",
    "        #X = self.input_dataset[self.selected_features]\n",
    "        X = self.input_dataset.iloc[:, :-1]\n",
    "        y = self.input_dataset['Label']\n",
    "        return X, y\n",
    "    \n",
    "    def imputing(self, X):\n",
    "        X.replace([np.inf, -np.inf], np.nan, inplace=True)\n",
    "        Imp = SimpleImputer()\n",
    "        X = Imp.fit_transform(X)\n",
    "        return X\n",
    "        \n",
    "    def scaling(self, X):\n",
    "        scaler = preprocessing.MinMaxScaler()\n",
    "        X = scaler.fit_transform(X)\n",
    "        joblib.dump(scaler, 'minmaxscaler')\n",
    "        return X\n",
    "    \n",
    "    def label_binarization(self, y):\n",
    "        for label in y:\n",
    "            if (label != 'BENIGN' and label != 'ATTACK'):\n",
    "                y.replace(label, 'ATTACK', inplace=True)\n",
    "        y.replace('BENIGN', 1, inplace=True)\n",
    "        y.replace('ATTACK', 0, inplace=True)\n",
    "        return y\n",
    "    \n",
    "    def return_data(self):\n",
    "        return self.data, self.targets"
   ]
  },
  {
   "cell_type": "code",
   "execution_count": 22,
   "id": "7b3352fd-24e3-418b-ad69-5610a96dfc5a",
   "metadata": {},
   "outputs": [],
   "source": [
    "class MyDataset(Dataset):\n",
    "    def __init__(self, file_path):\n",
    "        preprocessor = PreProcessor(file_path)\n",
    "        preprocessor.print_input_data()\n",
    "        preprocessor.preprocess()\n",
    "        self.data, self.targets = preprocessor.return_data()\n",
    "        \n",
    "    def __len__(self):\n",
    "        return len(self.data)\n",
    "    \n",
    "    def __getitem__(self, idx):\n",
    "        row = self.data[idx]\n",
    "        label = self.targets[idx]\n",
    "        return row, label"
   ]
  },
  {
   "cell_type": "code",
   "execution_count": 23,
   "id": "90b14a53-341f-4950-9ebe-40901a12929c",
   "metadata": {},
   "outputs": [],
   "source": [
    "num_epochs = 100"
   ]
  },
  {
   "cell_type": "code",
   "execution_count": 24,
   "id": "0319c25f-9fc6-4081-8431-c128778ea25f",
   "metadata": {},
   "outputs": [
    {
     "name": "stdout",
     "output_type": "stream",
     "text": [
      "The input dataset has the following columns/features\n",
      "Index(['sport', 'dsport', 'dur', 'sbytes', 'dbytes', 'sttl', 'dttl', 'sloss',\n",
      "       'dloss', 'Sload',\n",
      "       ...\n",
      "       'service_ftp-data', 'service_http', 'service_irc', 'service_pop3',\n",
      "       'service_radius', 'service_smtp', 'service_snmp', 'service_ssh',\n",
      "       'service_ssl', 'Label'],\n",
      "      dtype='object', length=203)\n",
      "The labels are as follows\n",
      "BENIGN    354996\n",
      "ATTACK     51411\n",
      "Name: Label, dtype: int64\n",
      "Axes(0.22375,0.11;0.5775x0.77)\n"
     ]
    },
    {
     "data": {
      "image/png": "[encoded data removed]",
      "text/plain": [
       "<Figure size 640x480 with 1 Axes>"
      ]
     },
     "metadata": {},
     "output_type": "display_data"
    }
   ],
   "source": [
    "sample_path = 'C:/Users/katsa/OneDrive/Jupyter_files/shallow_models_cic_nb15/nb_all_feat_train_dataset.csv'\n",
    "CICDataset = MyDataset(sample_path)\n",
    "batch_size = 64\n",
    "dataloader = DataLoader(CICDataset, batch_size=batch_size, \n",
    "                          shuffle=True, drop_last=True)"
   ]
  },
  {
   "cell_type": "code",
   "execution_count": 25,
   "id": "8e7f2c41-7fd2-4c2c-9558-911d2cf1f8f6",
   "metadata": {},
   "outputs": [],
   "source": [
    "# Define the generator model\n",
    "\n",
    "class Generator(nn.Module):\n",
    "    def __init__(self):\n",
    "        super(Generator, self).__init__()\n",
    "        self.model = nn.Sequential(\n",
    "            nn.Linear(latent_dim + 1, 8),\n",
    "            nn.LeakyReLU(0.2, inplace=True),\n",
    "            nn.Linear(8, 16),\n",
    "            nn.BatchNorm1d(16, 0.8),\n",
    "            nn.LeakyReLU(0.2, inplace=True),\n",
    "            nn.Linear(16, 8),\n",
    "            nn.BatchNorm1d(8, 0.8),\n",
    "            nn.LeakyReLU(0.2, inplace=True),\n",
    "            nn.Linear(8, data_dim),\n",
    "            nn.Sigmoid()\n",
    "        )\n",
    "\n",
    "    def forward(self, z, label):\n",
    "        label = torch.full((batch_size, 1), label)\n",
    "        z = torch.cat((noise, label), 1)\n",
    "        data = self.model(z)\n",
    "        return data\n",
    "    \n"
   ]
  },
  {
   "cell_type": "code",
   "execution_count": 26,
   "id": "7a1b526a-6105-48fe-883f-3113f2480a47",
   "metadata": {},
   "outputs": [],
   "source": [
    "# Define the discriminator model\n",
    "\n",
    "class Discriminator(nn.Module):\n",
    "    def __init__(self):\n",
    "        super(Discriminator, self).__init__()\n",
    "        self.model = nn.Sequential(\n",
    "            nn.Linear(data_dim, 8),\n",
    "            nn.LeakyReLU(0.2, inplace=True),\n",
    "            nn.Linear(8, 4),\n",
    "            nn.LeakyReLU(0.2, inplace=True),\n",
    "            nn.Linear(4, 1),\n",
    "            nn.Sigmoid()\n",
    "        )\n",
    "\n",
    "    def forward(self, data):\n",
    "        validity = self.model(data)\n",
    "        return validity\n",
    "    \n",
    "    "
   ]
  },
  {
   "cell_type": "code",
   "execution_count": 27,
   "id": "80938735-654d-4141-884f-d09bf28bf403",
   "metadata": {},
   "outputs": [
    {
     "name": "stdout",
     "output_type": "stream",
     "text": [
      "202\n"
     ]
    }
   ],
   "source": [
    "# Definition of hyperparameters\n",
    "\n",
    "#data_dim=len(selected_features_total)\n",
    "data_dim=202\n",
    "print(data_dim)\n",
    "latent_dim = 4\n",
    "lr = 0.0002\n",
    "adversarial_loss = nn.BCELoss()\n",
    "generator = Generator()\n",
    "discriminator = Discriminator()\n",
    "optimizer_G = optim.Adam(generator.parameters(), lr=lr, betas=(0.5, 0.999))\n",
    "optimizer_D = optim.Adam(discriminator.parameters(), lr=lr, betas=(0.5, 0.999))"
   ]
  },
  {
   "cell_type": "code",
   "execution_count": 28,
   "id": "9c663729-ff33-4ea9-a470-0e1cf2c7b886",
   "metadata": {},
   "outputs": [],
   "source": [
    "noise = torch.randn(batch_size, latent_dim)"
   ]
  },
  {
   "cell_type": "code",
   "execution_count": 29,
   "id": "10da37bd-24f5-4771-8a28-918cb1772d2e",
   "metadata": {},
   "outputs": [],
   "source": [
    "epochs_lst = [5, 10, 15, 20, 25, 30]"
   ]
  },
  {
   "cell_type": "code",
   "execution_count": null,
   "id": "ab3315ec-ec36-40ad-adf1-4b2a582b9ba8",
   "metadata": {},
   "outputs": [
    {
     "name": "stdout",
     "output_type": "stream",
     "text": [
      "[Epoch 0/100] [Batch 0/6350] [D loss: 2.074385] [G loss: 1.386428]\n",
      "[Epoch 0/100] [Batch 1000/6350] [D loss: 1.631487] [G loss: 1.093819]\n",
      "[Epoch 0/100] [Batch 2000/6350] [D loss: 1.571344] [G loss: 1.003523]\n",
      "[Epoch 0/100] [Batch 3000/6350] [D loss: 1.464526] [G loss: 0.978526]\n",
      "[Epoch 0/100] [Batch 4000/6350] [D loss: 1.448273] [G loss: 0.982046]\n",
      "[Epoch 0/100] [Batch 5000/6350] [D loss: 1.392416] [G loss: 0.980127]\n",
      "[Epoch 0/100] [Batch 6000/6350] [D loss: 1.387403] [G loss: 0.953643]\n",
      "Saving models...\n",
      "[Epoch 1/100] [Batch 0/6350] [D loss: 1.372301] [G loss: 0.951812]\n",
      "[Epoch 1/100] [Batch 1000/6350] [D loss: 1.392791] [G loss: 0.992877]\n",
      "[Epoch 1/100] [Batch 2000/6350] [D loss: 1.358147] [G loss: 0.990084]\n",
      "[Epoch 1/100] [Batch 3000/6350] [D loss: 1.362919] [G loss: 1.003552]\n",
      "[Epoch 1/100] [Batch 4000/6350] [D loss: 1.388491] [G loss: 1.012379]\n",
      "[Epoch 1/100] [Batch 5000/6350] [D loss: 1.370662] [G loss: 1.007090]\n",
      "[Epoch 1/100] [Batch 6000/6350] [D loss: 1.372605] [G loss: 1.019217]\n",
      "Saving models...\n",
      "[Epoch 2/100] [Batch 0/6350] [D loss: 1.360933] [G loss: 1.018443]\n",
      "[Epoch 2/100] [Batch 1000/6350] [D loss: 1.382256] [G loss: 1.013885]\n",
      "[Epoch 2/100] [Batch 2000/6350] [D loss: 1.350855] [G loss: 1.019369]\n",
      "[Epoch 2/100] [Batch 3000/6350] [D loss: 1.367311] [G loss: 1.014130]\n",
      "[Epoch 2/100] [Batch 4000/6350] [D loss: 1.369784] [G loss: 1.011928]\n",
      "[Epoch 2/100] [Batch 5000/6350] [D loss: 1.363647] [G loss: 1.022403]\n"
     ]
    }
   ],
   "source": [
    "for epoch in range(num_epochs):\n",
    "    for i, (data, labels) in enumerate(dataloader):\n",
    "        batch_size = data.shape[0]\n",
    "        real_data = Variable(data.type(FloatTensor))        \n",
    "        labels = Variable(labels.float())\n",
    "        labels = labels.view(-1, 1).type(FloatTensor)\n",
    "        \n",
    "        # Train the discriminator\n",
    "        optimizer_D.zero_grad()\n",
    "        d_real_outputs = discriminator(real_data)\n",
    "        d_real_loss = adversarial_loss(d_real_outputs, labels)\n",
    "        \n",
    "        fake_data = generator(noise, 0)\n",
    "        d_fake_outputs = discriminator(fake_data.detach())\n",
    "        d_fake_loss1 = adversarial_loss(d_fake_outputs, torch.full((batch_size, 1), 0.4).type(FloatTensor))\n",
    "        \n",
    "        fake_data = generator(noise, 1)\n",
    "        d_fake_outputs = discriminator(fake_data.detach())\n",
    "        d_fake_loss2 = adversarial_loss(d_fake_outputs, torch.full((batch_size, 1), 0.6).type(FloatTensor))\n",
    "        \n",
    "        d_loss = d_real_loss + d_fake_loss1 + d_fake_loss2\n",
    "        d_loss.backward()\n",
    "        optimizer_D.step()\n",
    "        \n",
    "        # Train the generator\n",
    "        optimizer_G.zero_grad()\n",
    "        noise = torch.randn(batch_size, latent_dim)\n",
    "        fake_data = generator(noise, 0)\n",
    "        d_fake_outputs = discriminator(fake_data)\n",
    "        targets = torch.full((batch_size, 1), 0)\n",
    "        g_loss1 = adversarial_loss(d_fake_outputs, targets.float())\n",
    "\n",
    "        noise = torch.randn(batch_size, latent_dim)\n",
    "        fake_data = generator(noise, 1)\n",
    "        d_fake_outputs = discriminator(fake_data)\n",
    "        targets = torch.full((batch_size, 1), 1)\n",
    "        g_loss2 = adversarial_loss(d_fake_outputs, targets.float())\n",
    "        \n",
    "        g_loss = g_loss1 + g_loss2\n",
    "        g_loss.backward()\n",
    "        optimizer_G.step()\n",
    "        \n",
    "\n",
    "        # Print the loss for each epoch\n",
    "        if i % 1000 == 0:\n",
    "            print(\"[Epoch %d/%d] [Batch %d/%d] [D loss: %f] [G loss: %f]\" % (epoch, num_epochs, i, len(dataloader), d_loss.item(), g_loss.item()))\n",
    "\n",
    "    print('Saving models...')\n",
    "    # save discriminator model used for classification\n",
    "    PATH_disc = './models/discr_model-'\n",
    "    PATH = PATH_disc + 'lr=' + str(lr) + '-batch=' + str(batch_size) + '-epochs=' + str(epoch) + '.pth'\n",
    "    torch.save(discriminator.state_dict(), PATH)\n",
    "    \n",
    "    # save generator model\n",
    "    PATH_gen = './models/gen_model-'\n",
    "    PATH = PATH_gen + 'lr=' + str(lr) + '-batch=' + str(batch_size) + '-epochs=' + str(epoch) + '.pth'\n",
    "    torch.save(generator.state_dict(), PATH)"
   ]
  }
 ],
 "metadata": {
  "kernelspec": {
   "display_name": "Python 3 (ipykernel)",
   "language": "python",
   "name": "python3"
  },
  "language_info": {
   "codemirror_mode": {
    "name": "ipython",
    "version": 3
   },
   "file_extension": ".py",
   "mimetype": "text/x-python",
   "name": "python",
   "nbconvert_exporter": "python",
   "pygments_lexer": "ipython3",
   "version": "3.10.10"
  }
 },
 "nbformat": 4,
 "nbformat_minor": 5
}
