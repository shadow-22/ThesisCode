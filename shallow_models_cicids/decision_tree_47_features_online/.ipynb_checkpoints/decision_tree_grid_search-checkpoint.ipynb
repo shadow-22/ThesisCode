{
 "cells": [
  {
   "cell_type": "code",
   "execution_count": 1,
   "id": "67fb9fe3-c53e-47a3-ae51-14b86ebdd356",
   "metadata": {},
   "outputs": [],
   "source": [
    "from sklearn.model_selection import GridSearchCV\n",
    "from sklearn.pipeline import Pipeline\n",
    "from sklearn.impute import SimpleImputer\n",
    "from sklearn.preprocessing import StandardScaler\n",
    "from sklearn.tree import DecisionTreeClassifier\n",
    "import pandas as pd\n",
    "import matplotlib.pyplot as plt"
   ]
  },
  {
   "cell_type": "code",
   "execution_count": 2,
   "id": "045e70fe-bf56-4055-9a77-1690f31377c8",
   "metadata": {},
   "outputs": [],
   "source": [
    "selected_features = ['Destination Port', 'Total Fwd Packets', 'Total Backward Packets', 'Total Length of Fwd Packets',\n",
    "                     'Total Length of Bwd Packets', 'Fwd Packet Length Max', 'Fwd Packet Length Min', 'Fwd Packet Length Mean',\n",
    "                     'Fwd Packet Length Std', 'Bwd Packet Length Max', 'Bwd Packet Length Min', 'Bwd Packet Length Mean', \n",
    "                     'Bwd Packet Length Std', 'Flow IAT Mean', 'Flow IAT Std', 'Flow IAT Max',\n",
    "                     'Flow IAT Min', 'Fwd IAT Mean', 'Fwd IAT Std', 'Fwd IAT Max', 'Fwd IAT Min', 'Bwd IAT Mean', 'Bwd IAT Std',\n",
    "                     'Bwd IAT Max', 'Bwd IAT Min', 'Min Packet Length', 'Max Packet Length', \n",
    "                     'Packet Length Mean', 'Packet Length Std', 'FIN Flag Count', 'SYN Flag Count', 'RST Flag Count', \n",
    "                     'PSH Flag Count', 'ACK Flag Count', 'URG Flag Count', 'CWE Flag Count', 'ECE Flag Count']\n",
    "\n",
    "added_features = ['Fwd PSH Flags', 'Fwd URG Flags', 'Bwd PSH Flags', 'Bwd URG Flags']\n",
    "\n",
    "#extra_features = ['Active Max', 'Idle Max' ]\n",
    "\n",
    "computed_features = ['Flow Duration', 'Flow Bytes/s', 'Flow Packets/s', 'Fwd Packets/s', 'Bwd Packets/s', 'Packet Length Variance']\n",
    "\n",
    "selected_features_total = (selected_features + \n",
    "                           added_features + \n",
    "                           computed_features)\n",
    "    "
   ]
  },
  {
   "cell_type": "code",
   "execution_count": 3,
   "id": "43dfee6b-7d98-467a-9df7-9cda844e1303",
   "metadata": {},
   "outputs": [],
   "source": [
    "train_dataset_path = 'C:/Users/katsa/OneDrive/Jupyter_files/shallow_models_online/cic_train_sample_binary.csv'\n",
    "CICDataset_train = pd.read_csv(train_dataset_path)\n",
    "X_train, y_train = CICDataset_train[selected_features_total], CICDataset_train['Label']"
   ]
  },
  {
   "cell_type": "code",
   "execution_count": 4,
   "id": "4928db93-a74d-4fc3-b17d-c7bf0b403b81",
   "metadata": {},
   "outputs": [
    {
     "name": "stdout",
     "output_type": "stream",
     "text": [
      "Best parameters: {'clf__max_depth': 12}\n",
      "Best score: 1.00\n"
     ]
    }
   ],
   "source": [
    "# Create a pipeline with SimpleImputer, StandardScaler, and DecisionTreeClassifier\n",
    "pipeline = Pipeline([\n",
    "    ('imputer', SimpleImputer()),\n",
    "    ('scaler', StandardScaler()),\n",
    "    ('clf', DecisionTreeClassifier())\n",
    "])\n",
    "\n",
    "# Define the hyperparameter grid to search over\n",
    "param_grid = {\n",
    "    'clf__max_depth': [3, 5, 7, 9, 12, 16, 20, 25]\n",
    "}\n",
    "\n",
    "# Create a GridSearchCV object with the pipeline and hyperparameter grid\n",
    "grid_search = GridSearchCV(pipeline, param_grid=param_grid, cv=5)\n",
    "\n",
    "# Fit the GridSearchCV object on your training data\n",
    "grid_search.fit(X_train, y_train)\n",
    "\n",
    "# Print the best hyperparameters and corresponding score\n",
    "print(\"Best parameters: {}\".format(grid_search.best_params_))\n",
    "print(\"Best score: {:.2f}\".format(grid_search.best_score_))"
   ]
  },
  {
   "cell_type": "code",
   "execution_count": 5,
   "id": "eba73108-f7b0-469b-86e8-2556e96ff986",
   "metadata": {},
   "outputs": [
    {
     "data": {
      "image/png": "[encoded data removed]",
      "text/plain": [
       "<Figure size 640x480 with 1 Axes>"
      ]
     },
     "metadata": {},
     "output_type": "display_data"
    }
   ],
   "source": [
    "# assume you have already created and fitted the grid search object 'grid_search'\n",
    "\n",
    "# convert cv_results_ to a pandas DataFrame\n",
    "results_df = pd.DataFrame(grid_search.cv_results_)\n",
    "\n",
    "# extract the relevant columns\n",
    "param_cols = [col for col in results_df.columns if col.startswith('param_')]\n",
    "mean_test_score = 'mean_test_score'\n",
    "std_test_score = 'std_test_score'\n",
    "\n",
    "# plot the mean test score and standard deviation for each parameter setting\n",
    "fig, ax = plt.subplots()\n",
    "for col in param_cols:\n",
    "    df = results_df[[col, mean_test_score, std_test_score]].dropna()\n",
    "    param_name = col.replace('param_', '')\n",
    "    param_values = df[col]\n",
    "    ax.errorbar(param_values, df[mean_test_score], yerr=df[std_test_score], label=param_name, fmt='-o')\n",
    "ax.set_xlabel('Parameter value')\n",
    "ax.set_ylabel('Mean cross-validation score')\n",
    "ax.legend()\n",
    "plt.show()"
   ]
  },
  {
   "cell_type": "code",
   "execution_count": null,
   "id": "36ba789a-7f75-4e6d-a610-016936204a34",
   "metadata": {},
   "outputs": [],
   "source": [
    "# Create a pipeline with SimpleImputer, StandardScaler, and DecisionTreeClassifier\n",
    "pipeline = Pipeline([\n",
    "    ('imputer', SimpleImputer()),\n",
    "    ('scaler', StandardScaler()),\n",
    "    ('clf', DecisionTreeClassifier())\n",
    "])\n",
    "\n",
    "# Define the hyperparameter grid to search over\n",
    "param_grid = {\n",
    "    'clf__max_depth': [9],\n",
    "    'clf__criterion': ['gini', 'entropy'],\n",
    "    'clf__splitter': ['best', 'random'],\n",
    "    'clf__min_samples_split': [2, 5, 10],\n",
    "    'clf__min_samples_leaf': [1, 2, 4],\n",
    "    'clf__max_features': [None, 'sqrt', 'log2'],\n",
    "    'clf__class_weight': [None, 'balanced']\n",
    "}\n",
    "\n",
    "# Create a GridSearchCV object with the pipeline and hyperparameter grid\n",
    "grid_search = GridSearchCV(pipeline, param_grid=param_grid, cv=5)\n",
    "\n",
    "# Fit the GridSearchCV object on your training data\n",
    "grid_search.fit(X_train, y_train)\n",
    "\n",
    "# Print the best hyperparameters and corresponding score\n",
    "print(\"Best parameters: {}\".format(grid_search.best_params_))\n",
    "print(\"Best score: {:.2f}\".format(grid_search.best_score_))"
   ]
  }
 ],
 "metadata": {
  "kernelspec": {
   "display_name": "Python 3 (ipykernel)",
   "language": "python",
   "name": "python3"
  },
  "language_info": {
   "codemirror_mode": {
    "name": "ipython",
    "version": 3
   },
   "file_extension": ".py",
   "mimetype": "text/x-python",
   "name": "python",
   "nbconvert_exporter": "python",
   "pygments_lexer": "ipython3",
   "version": "3.10.10"
  }
 },
 "nbformat": 4,
 "nbformat_minor": 5
}
