{
 "cells": [
  {
   "cell_type": "code",
   "execution_count": 1,
   "id": "bb89ee1e-f84d-4adf-830e-545b33d6bc5b",
   "metadata": {},
   "outputs": [],
   "source": [
    "from sklearn.model_selection import GridSearchCV\n",
    "from sklearn.pipeline import Pipeline\n",
    "from sklearn.impute import SimpleImputer\n",
    "from sklearn.preprocessing import StandardScaler\n",
    "from sklearn.svm import SVC\n",
    "import pandas as pd\n",
    "import matplotlib.pyplot as plt\n",
    "from sklearn.model_selection import RandomizedSearchCV\n",
    "from scipy.stats import uniform, expon"
   ]
  },
  {
   "cell_type": "code",
   "execution_count": 2,
   "id": "0fc57732-1629-4bc2-b8d7-06fcf0588bfd",
   "metadata": {},
   "outputs": [
    {
     "name": "stdout",
     "output_type": "stream",
     "text": [
      "406407\n",
      "4064\n"
     ]
    }
   ],
   "source": [
    "train_dataset_path = 'C:/Users/katsa/OneDrive/Jupyter_files/shallow_models_cic_nb15/nb_all_feat_train_dataset.csv'\n",
    "nb_train_dataset = pd.read_csv(train_dataset_path)\n",
    "print(len(nb_train_dataset))\n",
    "nb_train_dataset = nb_train_dataset.sample(frac=1/100)\n",
    "print(len(nb_train_dataset))\n",
    "X_train, y_train = nb_train_dataset.iloc[:, :-1], nb_train_dataset['Label']"
   ]
  },
  {
   "cell_type": "code",
   "execution_count": 3,
   "id": "fca63bd7-8a4a-4acb-8f2c-b9a2f6c16eca",
   "metadata": {},
   "outputs": [
    {
     "name": "stdout",
     "output_type": "stream",
     "text": [
      "Best parameters: {'clf__gamma': 0.01, 'clf__C': 1}\n",
      "Best estimator: Pipeline(steps=[('imputer', SimpleImputer()), ('scaler', StandardScaler()),\n",
      "                ('clf', SVC(C=1, gamma=0.01))])\n"
     ]
    },
    {
     "ename": "AttributeError",
     "evalue": "'numpy.float64' object has no attribute '2f'",
     "output_type": "error",
     "traceback": [
      "\u001b[1;31m---------------------------------------------------------------------------\u001b[0m",
      "\u001b[1;31mAttributeError\u001b[0m                            Traceback (most recent call last)",
      "Cell \u001b[1;32mIn[3], line 34\u001b[0m\n\u001b[0;32m     32\u001b[0m \u001b[38;5;28mprint\u001b[39m(\u001b[38;5;124m\"\u001b[39m\u001b[38;5;124mBest parameters: \u001b[39m\u001b[38;5;132;01m{}\u001b[39;00m\u001b[38;5;124m\"\u001b[39m\u001b[38;5;241m.\u001b[39mformat(best_params))\n\u001b[0;32m     33\u001b[0m \u001b[38;5;28mprint\u001b[39m(\u001b[38;5;124m\"\u001b[39m\u001b[38;5;124mBest estimator: \u001b[39m\u001b[38;5;132;01m{}\u001b[39;00m\u001b[38;5;124m\"\u001b[39m\u001b[38;5;241m.\u001b[39mformat(best_model))\n\u001b[1;32m---> 34\u001b[0m \u001b[38;5;28mprint\u001b[39m(\u001b[38;5;124;43m\"\u001b[39;49m\u001b[38;5;124;43mBest score: \u001b[39;49m\u001b[38;5;124;43m{\u001b[39;49m\u001b[38;5;124;43m.2f}\u001b[39;49m\u001b[38;5;124;43m\"\u001b[39;49m\u001b[38;5;241;43m.\u001b[39;49m\u001b[43mformat\u001b[49m\u001b[43m(\u001b[49m\u001b[43mbest_score\u001b[49m\u001b[43m)\u001b[49m)\n",
      "\u001b[1;31mAttributeError\u001b[0m: 'numpy.float64' object has no attribute '2f'"
     ]
    }
   ],
   "source": [
    "# Create a pipeline with SimpleImputer, StandardScaler, and DecisionTreeClassifier\n",
    "pipeline = Pipeline([\n",
    "    ('imputer', SimpleImputer()),\n",
    "    ('scaler', StandardScaler()),\n",
    "    ('clf', SVC())\n",
    "])\n",
    "\n",
    "# Define the hyperparameter grid to search over\n",
    "param_grid = {\n",
    "    'clf__gamma': [0.001, 0.01, 0.1, 1],\n",
    "    #'clf__kernel': ['linear', 'poly', 'rbf', 'sigmoid'],\n",
    "    'clf__C': [0.1, 1, 10, 100]\n",
    "}\n",
    "\n",
    "# # Create a GridSearchCV object with the pipeline and hyperparameter grid\n",
    "# grid_search = GridSearchCV(pipeline, param_grid=param_grid, cv=5)\n",
    "# # Fit the GridSearchCV object on your training data\n",
    "# grid_search.fit(X_train, y_train)\n",
    "\n",
    "# Print the best hyperparameters and corresponding score\n",
    "# print(\"Best parameters: {}\".format(grid_search.best_params_))\n",
    "# print(\"Best score: {:.2f}\".format(grid_search.best_score_))\n",
    "\n",
    "# Perform randomized search\n",
    "random_search = RandomizedSearchCV(pipeline, param_grid, n_iter=10, cv=5)\n",
    "random_search.fit(X_train, y_train)\n",
    "\n",
    "best_params = random_search.best_params_\n",
    "best_model = random_search.best_estimator_\n",
    "best_score = random_search.best_score_\n",
    "\n",
    "print(\"Best parameters: {}\".format(best_params))\n",
    "print(\"Best estimator: {}\".format(best_model))\n",
    "print(\"Best score: {:.2f}\".format(best_score))"
   ]
  },
  {
   "cell_type": "code",
   "execution_count": null,
   "id": "c27e16c7-1b5c-4382-91c5-487c863870fd",
   "metadata": {},
   "outputs": [],
   "source": [
    "# assume you have already created and fitted the grid search object 'grid_search'\n",
    "\n",
    "# convert cv_results_ to a pandas DataFrame\n",
    "# results_df = pd.DataFrame(grid_search.cv_results_)\n",
    "results_df = pd.DataFrame(random_search.cv_results_)\n",
    "\n",
    "# extract the relevant columns\n",
    "param_cols = [col for col in results_df.columns if col.startswith('param_')]\n",
    "mean_test_score = 'mean_test_score'\n",
    "std_test_score = 'std_test_score'\n",
    "\n",
    "# plot the mean test score and standard deviation for each parameter setting\n",
    "fig, ax = plt.subplots()\n",
    "for col in param_cols:\n",
    "    df = results_df[[col, mean_test_score, std_test_score]].dropna()\n",
    "    param_name = col.replace('param_', '')\n",
    "    param_values = df[col]\n",
    "    ax.errorbar(param_values, df[mean_test_score], yerr=df[std_test_score], label=param_name, fmt='-o')\n",
    "ax.set_xlabel('Parameter value')\n",
    "ax.set_ylabel('Mean cross-validation score')\n",
    "ax.legend()\n",
    "plt.show()"
   ]
  }
 ],
 "metadata": {
  "kernelspec": {
   "display_name": "Python 3 (ipykernel)",
   "language": "python",
   "name": "python3"
  },
  "language_info": {
   "codemirror_mode": {
    "name": "ipython",
    "version": 3
   },
   "file_extension": ".py",
   "mimetype": "text/x-python",
   "name": "python",
   "nbconvert_exporter": "python",
   "pygments_lexer": "ipython3",
   "version": "3.10.10"
  }
 },
 "nbformat": 4,
 "nbformat_minor": 5
}
