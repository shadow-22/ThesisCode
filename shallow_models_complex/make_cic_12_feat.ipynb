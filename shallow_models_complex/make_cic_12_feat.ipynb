{
 "cells": [
  {
   "cell_type": "code",
   "execution_count": 1,
   "id": "cfdbffb8-957f-4412-9994-a7c9797f8c04",
   "metadata": {},
   "outputs": [],
   "source": [
    "import pandas as pd\n",
    "import numpy as np"
   ]
  },
  {
   "cell_type": "code",
   "execution_count": 2,
   "id": "86b59c50-9cd4-470c-9cad-b422b17501bc",
   "metadata": {},
   "outputs": [],
   "source": [
    "cic_sample_all_feat_train_dataset_path = 'C:/Users/katsa/OneDrive/Jupyter_files/shallow_models_online/cic_train_sample_binary.csv'"
   ]
  },
  {
   "cell_type": "code",
   "execution_count": 3,
   "id": "e26fb205-77fc-43ef-bbcc-275b82b7ac62",
   "metadata": {},
   "outputs": [],
   "source": [
    "cic_sample_all_feat_test_dataset_path = 'C:/Users/katsa/OneDrive/Jupyter_files/shallow_models_online/cic_train_sample_binary.csv'"
   ]
  },
  {
   "cell_type": "code",
   "execution_count": 4,
   "id": "65f60770-5940-41a9-9f2b-8d73ce50d344",
   "metadata": {},
   "outputs": [],
   "source": [
    "# feature selection for CICIDS-2017 dataset\n",
    "\n",
    "cic_feat_selection_vector = ['Destination Port', 'Flow Duration', 'Total Fwd Packets', \n",
    "                              'Total Backward Packets', 'Total Length of Fwd Packets', \n",
    "                              'Total Length of Bwd Packets', 'Fwd Packet Length Mean', \n",
    "                              'Bwd Packet Length Mean', 'Flow Bytes/s', 'Flow Packets/s', \n",
    "                              'Fwd Packets/s', 'Bwd Packets/s', 'Label']"
   ]
  },
  {
   "cell_type": "code",
   "execution_count": 5,
   "id": "b2ecd785-66bc-4e2f-b34e-1fdfa80b51ca",
   "metadata": {},
   "outputs": [],
   "source": [
    "cic_full_train_df = pd.read_csv(cic_sample_all_feat_train_dataset_path)\n",
    "cic_full_test_df = pd.read_csv(cic_sample_all_feat_test_dataset_path)"
   ]
  },
  {
   "cell_type": "code",
   "execution_count": 6,
   "id": "848e2447-6855-4e42-a41e-c5171eff3550",
   "metadata": {},
   "outputs": [],
   "source": [
    "cic_12_train_df = cic_full_train_df[cic_feat_selection_vector]\n",
    "cic_12_test_df = cic_full_test_df[cic_feat_selection_vector]"
   ]
  },
  {
   "cell_type": "code",
   "execution_count": 7,
   "id": "36ee5521-4acf-483a-aa57-14c7ff4670be",
   "metadata": {},
   "outputs": [],
   "source": [
    "cic_12_train_df.to_csv('cic_12_feat_train_dataset.csv', index=False)\n",
    "cic_12_test_df.to_csv('cic_12_feat_test_dataset.csv', index=False)"
   ]
  }
 ],
 "metadata": {
  "kernelspec": {
   "display_name": "Python 3 (ipykernel)",
   "language": "python",
   "name": "python3"
  },
  "language_info": {
   "codemirror_mode": {
    "name": "ipython",
    "version": 3
   },
   "file_extension": ".py",
   "mimetype": "text/x-python",
   "name": "python",
   "nbconvert_exporter": "python",
   "pygments_lexer": "ipython3",
   "version": "3.10.10"
  }
 },
 "nbformat": 4,
 "nbformat_minor": 5
}
