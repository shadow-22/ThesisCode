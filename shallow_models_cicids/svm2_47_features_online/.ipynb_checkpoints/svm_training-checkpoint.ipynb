{
 "cells": [
  {
   "cell_type": "code",
   "execution_count": 1,
   "id": "c87ff6e6-78c3-4e79-9ee6-72357f15dde4",
   "metadata": {},
   "outputs": [],
   "source": [
    "import pandas as pd\n",
    "import numpy as np\n",
    "from sklearn.model_selection import train_test_split\n",
    "from sklearn.model_selection import cross_val_score\n",
    "from sklearn.model_selection import GridSearchCV\n",
    "from sklearn.impute import SimpleImputer\n",
    "from sklearn.preprocessing import StandardScaler\n",
    "from sklearn.preprocessing import OneHotEncoder\n",
    "from sklearn.preprocessing import OrdinalEncoder\n",
    "from sklearn.tree import DecisionTreeClassifier\n",
    "from sklearn import metrics\n",
    "import pickle\n",
    "from imblearn.over_sampling import RandomOverSampler\n",
    "from glob import glob\n",
    "import nfstream\n",
    "import matplotlib.pyplot as plt\n",
    "from sklearn.compose import make_column_transformer\n",
    "from sklearn.pipeline import make_pipeline\n",
    "import os.path\n",
    "from sklearn.svm import SVC"
   ]
  },
  {
   "cell_type": "code",
   "execution_count": 2,
   "id": "d6b19b01-aaf5-499c-aeb0-821f592f3190",
   "metadata": {},
   "outputs": [],
   "source": [
    "selected_features = ['Destination Port', 'Total Fwd Packets', 'Total Backward Packets', 'Total Length of Fwd Packets',\n",
    "                     'Total Length of Bwd Packets', 'Fwd Packet Length Max', 'Fwd Packet Length Min', 'Fwd Packet Length Mean',\n",
    "                     'Fwd Packet Length Std', 'Bwd Packet Length Max', 'Bwd Packet Length Min', 'Bwd Packet Length Mean', \n",
    "                     'Bwd Packet Length Std', 'Flow IAT Mean', 'Flow IAT Std', 'Flow IAT Max',\n",
    "                     'Flow IAT Min', 'Fwd IAT Mean', 'Fwd IAT Std', 'Fwd IAT Max', 'Fwd IAT Min', 'Bwd IAT Mean', 'Bwd IAT Std',\n",
    "                     'Bwd IAT Max', 'Bwd IAT Min', 'Min Packet Length', 'Max Packet Length', \n",
    "                     'Packet Length Mean', 'Packet Length Std', 'FIN Flag Count', 'SYN Flag Count', 'RST Flag Count', \n",
    "                     'PSH Flag Count', 'ACK Flag Count', 'URG Flag Count', 'CWE Flag Count', 'ECE Flag Count']\n",
    "\n",
    "added_features = ['Fwd PSH Flags', 'Fwd URG Flags', 'Bwd PSH Flags', 'Bwd URG Flags']\n",
    "\n",
    "#extra_features = ['Active Max', 'Idle Max' ]\n",
    "\n",
    "computed_features = ['Flow Duration', 'Flow Bytes/s', 'Flow Packets/s', 'Fwd Packets/s', 'Bwd Packets/s', 'Packet Length Variance']\n",
    "\n",
    "selected_features_total = (selected_features + \n",
    "                           added_features + \n",
    "                           computed_features)\n",
    "    "
   ]
  },
  {
   "cell_type": "code",
   "execution_count": 3,
   "id": "22158d6d-105d-46f9-a36a-698b6a11c46c",
   "metadata": {},
   "outputs": [],
   "source": [
    "pipe = make_pipeline(\n",
    "    SimpleImputer(), StandardScaler(), SVC(C=1, gamma=1, kernel='poly')\n",
    ")"
   ]
  },
  {
   "cell_type": "code",
   "execution_count": 4,
   "id": "7e646106-9e91-4f6b-b962-479b089fb759",
   "metadata": {},
   "outputs": [
    {
     "name": "stdout",
     "output_type": "stream",
     "text": [
      "141537\n",
      "14154\n"
     ]
    }
   ],
   "source": [
    "train_dataset_path = 'C:/Users/katsa/OneDrive/Jupyter_files/shallow_models_online/cic_train_sample_binary.csv'\n",
    "CICDataset_train = pd.read_csv(train_dataset_path)\n",
    "print(len(CICDataset_train))\n",
    "CICDataset_train = CICDataset_train.sample(frac=1/10)\n",
    "print(len(CICDataset_train))\n",
    "X_train, y_train = CICDataset_train[selected_features_total], CICDataset_train['Label']"
   ]
  },
  {
   "cell_type": "code",
   "execution_count": 5,
   "id": "cbd73e1e-a532-4c4b-9913-4e5568c2f370",
   "metadata": {},
   "outputs": [
    {
     "name": "stdout",
     "output_type": "stream",
     "text": [
      "283074\n"
     ]
    }
   ],
   "source": [
    "test_dataset_path = 'C:/Users/katsa/OneDrive/Jupyter_files/shallow_models_online/cic_test_sample_binary.csv'\n",
    "CICDataset_test = pd.read_csv(test_dataset_path)\n",
    "print(len(CICDataset_test))\n",
    "# CICDataset_test = CICDataset_test.sample(frac=1/6)\n",
    "# print(len(CICDataset_test))\n",
    "X_test, y_test = CICDataset_test[selected_features_total], CICDataset_test['Label']"
   ]
  },
  {
   "cell_type": "code",
   "execution_count": 6,
   "id": "3fb74f58-be72-4dcb-a9a9-d1db95d929b4",
   "metadata": {},
   "outputs": [
    {
     "name": "stdout",
     "output_type": "stream",
     "text": [
      "0.9863427937571094\n",
      "              precision    recall  f1-score   support\n",
      "\n",
      "      ATTACK       0.97      0.96      0.96     55763\n",
      "      BENIGN       0.99      0.99      0.99    227311\n",
      "\n",
      "    accuracy                           0.99    283074\n",
      "   macro avg       0.98      0.97      0.98    283074\n",
      "weighted avg       0.99      0.99      0.99    283074\n",
      "\n"
     ]
    }
   ],
   "source": [
    "pipe.fit(X_train.to_numpy(), y_train.to_numpy())\n",
    "predictions = pipe.predict(X_test.to_numpy())\n",
    "print(metrics.accuracy_score(y_test.to_numpy(), predictions))\n",
    "print(metrics.classification_report(y_test.to_numpy(), predictions))"
   ]
  },
  {
   "cell_type": "code",
   "execution_count": 7,
   "id": "b2700942-73e3-4006-acf1-bdb342b8046a",
   "metadata": {},
   "outputs": [
    {
     "name": "stdout",
     "output_type": "stream",
     "text": [
      "47179\n"
     ]
    }
   ],
   "source": [
    "CICDataset_test = CICDataset_test.sample(frac=1/6)\n",
    "print(len(CICDataset_test))\n",
    "X_train, y_train = CICDataset_train[selected_features_total], CICDataset_train['Label']"
   ]
  },
  {
   "cell_type": "code",
   "execution_count": 8,
   "id": "d4b8d469-4166-48b3-8fe4-77ceda968450",
   "metadata": {},
   "outputs": [
    {
     "name": "stdout",
     "output_type": "stream",
     "text": [
      "0.9863427937571094\n",
      "              precision    recall  f1-score   support\n",
      "\n",
      "      ATTACK       0.97      0.96      0.96     55763\n",
      "      BENIGN       0.99      0.99      0.99    227311\n",
      "\n",
      "    accuracy                           0.99    283074\n",
      "   macro avg       0.98      0.97      0.98    283074\n",
      "weighted avg       0.99      0.99      0.99    283074\n",
      "\n"
     ]
    }
   ],
   "source": [
    "predictions = pipe.predict(X_test.to_numpy())\n",
    "print(metrics.accuracy_score(y_test.to_numpy(), predictions))\n",
    "print(metrics.classification_report(y_test.to_numpy(), predictions))"
   ]
  },
  {
   "cell_type": "code",
   "execution_count": 9,
   "id": "d254aae6-5de8-4e16-b53a-25604ca6b851",
   "metadata": {},
   "outputs": [
    {
     "data": {
      "text/plain": [
       "['scaler']"
      ]
     },
     "execution_count": 9,
     "metadata": {},
     "output_type": "execute_result"
    }
   ],
   "source": [
    "import joblib\n",
    "joblib.dump(pipe, \"SVMmodel\")\n",
    "joblib.dump(pipe[1], \"scaler\")"
   ]
  }
 ],
 "metadata": {
  "kernelspec": {
   "display_name": "Python 3 (ipykernel)",
   "language": "python",
   "name": "python3"
  },
  "language_info": {
   "codemirror_mode": {
    "name": "ipython",
    "version": 3
   },
   "file_extension": ".py",
   "mimetype": "text/x-python",
   "name": "python",
   "nbconvert_exporter": "python",
   "pygments_lexer": "ipython3",
   "version": "3.10.10"
  }
 },
 "nbformat": 4,
 "nbformat_minor": 5
}
