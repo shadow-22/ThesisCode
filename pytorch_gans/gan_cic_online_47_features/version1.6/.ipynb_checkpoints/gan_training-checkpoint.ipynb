{
 "cells": [
  {
   "cell_type": "code",
   "execution_count": 13,
   "id": "4d45dfea-b5ab-4ee0-81db-982a5de12b8e",
   "metadata": {},
   "outputs": [],
   "source": [
    "# import libraries\n",
    "import numpy as np\n",
    "import pandas as pd\n",
    "import matplotlib.pyplot as plt\n",
    "import torch\n",
    "from torch import nn\n",
    "from torch.nn import functional as F\n",
    "from torch.utils.data import Dataset, DataLoader\n",
    "from torchvision import datasets, transforms\n",
    "from torchvision.utils import make_grid\n",
    "from tqdm import tqdm\n",
    "from sklearn import preprocessing\n",
    "from sklearn.preprocessing import StandardScaler\n",
    "from sklearn.preprocessing import MinMaxScaler\n",
    "from sklearn.impute import SimpleImputer\n",
    "import torch.optim as optim\n",
    "from torch.autograd import Variable\n",
    "from torch import FloatTensor, LongTensor\n",
    "import joblib"
   ]
  },
  {
   "cell_type": "code",
   "execution_count": 14,
   "id": "645898be-0d8e-400b-bf4d-6339c2253208",
   "metadata": {},
   "outputs": [],
   "source": [
    "selected_features = ['Destination Port', 'Total Fwd Packets', 'Total Backward Packets', 'Total Length of Fwd Packets',\n",
    "                     'Total Length of Bwd Packets', 'Fwd Packet Length Max', 'Fwd Packet Length Min', 'Fwd Packet Length Mean',\n",
    "                     'Fwd Packet Length Std', 'Bwd Packet Length Max', 'Bwd Packet Length Min', 'Bwd Packet Length Mean', \n",
    "                     'Bwd Packet Length Std', 'Flow IAT Mean', 'Flow IAT Std', 'Flow IAT Max',\n",
    "                     'Flow IAT Min', 'Fwd IAT Mean', 'Fwd IAT Std', 'Fwd IAT Max', 'Fwd IAT Min', 'Bwd IAT Mean', 'Bwd IAT Std',\n",
    "                     'Bwd IAT Max', 'Bwd IAT Min', 'Min Packet Length', 'Max Packet Length', \n",
    "                     'Packet Length Mean', 'Packet Length Std', 'FIN Flag Count', 'SYN Flag Count', 'RST Flag Count', \n",
    "                     'PSH Flag Count', 'ACK Flag Count', 'URG Flag Count', 'CWE Flag Count', 'ECE Flag Count']\n",
    "\n",
    "added_features = ['Fwd PSH Flags', 'Fwd URG Flags', 'Bwd PSH Flags', 'Bwd URG Flags']\n",
    "\n",
    "#extra_features = ['Active Max', 'Idle Max' ]\n",
    "\n",
    "computed_features = ['Flow Duration', 'Flow Bytes/s', 'Flow Packets/s', 'Fwd Packets/s', 'Bwd Packets/s', 'Packet Length Variance']\n",
    "\n",
    "selected_features_total = (selected_features + \n",
    "                           added_features + \n",
    "                           computed_features)\n",
    "    "
   ]
  },
  {
   "cell_type": "code",
   "execution_count": 15,
   "id": "cf915d9a-c8de-4044-9c9b-3f63660fd549",
   "metadata": {},
   "outputs": [],
   "source": [
    "class PreProcessor:\n",
    "    def __init__(self, file_path, selected_features):\n",
    "        self.input_dataset = pd.read_csv(file_path)\n",
    "        self.selected_features = selected_features\n",
    "        \n",
    "    def print_input_data(self):\n",
    "        print('The input dataset has the following columns/features')\n",
    "        print(self.input_dataset.columns)\n",
    "        labels = self.input_dataset['Label']\n",
    "        print('The labels are as follows')\n",
    "        print(labels.value_counts())\n",
    "        print(labels.value_counts().plot.pie())\n",
    "        \n",
    "    def preprocess(self):\n",
    "        X, y = self.feature_selection()\n",
    "        X = self.imputing(X)\n",
    "        X = self.scaling(X)\n",
    "        y = self.label_binarization(y)\n",
    "        self.data = torch.tensor(X)\n",
    "        self.targets = torch.tensor(y)\n",
    "        \n",
    "    def feature_selection(self):\n",
    "        X = self.input_dataset[self.selected_features]\n",
    "        y = self.input_dataset['Label']\n",
    "        return X, y\n",
    "    \n",
    "    def imputing(self, X):\n",
    "        X.replace([np.inf, -np.inf], np.nan, inplace=True)\n",
    "        Imp = SimpleImputer()\n",
    "        X = Imp.fit_transform(X)\n",
    "        return X\n",
    "        \n",
    "    def scaling(self, X):\n",
    "        scaler = preprocessing.MinMaxScaler()\n",
    "        X = scaler.fit_transform(X)\n",
    "        joblib.dump(scaler, 'minmaxscaler')\n",
    "        return X\n",
    "    \n",
    "    def label_binarization(self, y):\n",
    "        for label in y:\n",
    "            if (label != 'BENIGN' and label != 'ATTACK'):\n",
    "                y.replace(label, 'ATTACK', inplace=True)\n",
    "        y.replace('BENIGN', 1, inplace=True)\n",
    "        y.replace('ATTACK', 0, inplace=True)\n",
    "        return y\n",
    "    \n",
    "    def return_data(self):\n",
    "        return self.data, self.targets"
   ]
  },
  {
   "cell_type": "code",
   "execution_count": 16,
   "id": "7b3352fd-24e3-418b-ad69-5610a96dfc5a",
   "metadata": {},
   "outputs": [],
   "source": [
    "class MyDataset(Dataset):\n",
    "    def __init__(self, file_path, selected_features):\n",
    "        preprocessor = PreProcessor(file_path, selected_features)\n",
    "        preprocessor.print_input_data()\n",
    "        preprocessor.preprocess()\n",
    "        self.data, self.targets = preprocessor.return_data()\n",
    "        \n",
    "    def __len__(self):\n",
    "        return len(self.data)\n",
    "    \n",
    "    def __getitem__(self, idx):\n",
    "        row = self.data[idx]\n",
    "        label = self.targets[idx]\n",
    "        return row, label"
   ]
  },
  {
   "cell_type": "code",
   "execution_count": 17,
   "id": "90b14a53-341f-4950-9ebe-40901a12929c",
   "metadata": {},
   "outputs": [],
   "source": [
    "num_epochs = 100"
   ]
  },
  {
   "cell_type": "code",
   "execution_count": 18,
   "id": "0319c25f-9fc6-4081-8431-c128778ea25f",
   "metadata": {},
   "outputs": [
    {
     "name": "stdout",
     "output_type": "stream",
     "text": [
      "The input dataset has the following columns/features\n",
      "Index(['Destination Port', 'Flow Duration', 'Total Fwd Packets',\n",
      "       'Total Backward Packets', 'Total Length of Fwd Packets',\n",
      "       'Total Length of Bwd Packets', 'Fwd Packet Length Max',\n",
      "       'Fwd Packet Length Min', 'Fwd Packet Length Mean',\n",
      "       'Fwd Packet Length Std', 'Bwd Packet Length Max',\n",
      "       'Bwd Packet Length Min', 'Bwd Packet Length Mean',\n",
      "       'Bwd Packet Length Std', 'Flow Bytes/s', 'Flow Packets/s',\n",
      "       'Flow IAT Mean', 'Flow IAT Std', 'Flow IAT Max', 'Flow IAT Min',\n",
      "       'Fwd IAT Total', 'Fwd IAT Mean', 'Fwd IAT Std', 'Fwd IAT Max',\n",
      "       'Fwd IAT Min', 'Bwd IAT Total', 'Bwd IAT Mean', 'Bwd IAT Std',\n",
      "       'Bwd IAT Max', 'Bwd IAT Min', 'Fwd PSH Flags', 'Bwd PSH Flags',\n",
      "       'Fwd URG Flags', 'Bwd URG Flags', 'Fwd Header Length',\n",
      "       'Bwd Header Length', 'Fwd Packets/s', 'Bwd Packets/s',\n",
      "       'Min Packet Length', 'Max Packet Length', 'Packet Length Mean',\n",
      "       'Packet Length Std', 'Packet Length Variance', 'FIN Flag Count',\n",
      "       'SYN Flag Count', 'RST Flag Count', 'PSH Flag Count', 'ACK Flag Count',\n",
      "       'URG Flag Count', 'CWE Flag Count', 'ECE Flag Count', 'Down/Up Ratio',\n",
      "       'Average Packet Size', 'Avg Fwd Segment Size', 'Avg Bwd Segment Size',\n",
      "       'Fwd Header Length.1', 'Fwd Avg Bytes/Bulk', 'Fwd Avg Packets/Bulk',\n",
      "       'Fwd Avg Bulk Rate', 'Bwd Avg Bytes/Bulk', 'Bwd Avg Packets/Bulk',\n",
      "       'Bwd Avg Bulk Rate', 'Subflow Fwd Packets', 'Subflow Fwd Bytes',\n",
      "       'Subflow Bwd Packets', 'Subflow Bwd Bytes', 'Init_Win_bytes_forward',\n",
      "       'Init_Win_bytes_backward', 'act_data_pkt_fwd', 'min_seg_size_forward',\n",
      "       'Active Mean', 'Active Std', 'Active Max', 'Active Min', 'Idle Mean',\n",
      "       'Idle Std', 'Idle Max', 'Idle Min', 'Label'],\n",
      "      dtype='object')\n",
      "The labels are as follows\n",
      "BENIGN    113747\n",
      "ATTACK     27790\n",
      "Name: Label, dtype: int64\n",
      "Axes(0.22375,0.11;0.5775x0.77)\n"
     ]
    },
    {
     "name": "stderr",
     "output_type": "stream",
     "text": [
      "C:\\Users\\katsa\\AppData\\Local\\Temp\\ipykernel_15880\\1543300877.py:28: SettingWithCopyWarning: \n",
      "A value is trying to be set on a copy of a slice from a DataFrame\n",
      "\n",
      "See the caveats in the documentation: https://pandas.pydata.org/pandas-docs/stable/user_guide/indexing.html#returning-a-view-versus-a-copy\n",
      "  X.replace([np.inf, -np.inf], np.nan, inplace=True)\n"
     ]
    },
    {
     "data": {
      "image/png": "[encoded data removed]",
      "text/plain": [
       "<Figure size 640x480 with 1 Axes>"
      ]
     },
     "metadata": {},
     "output_type": "display_data"
    }
   ],
   "source": [
    "sample_path = \"C:/Users/katsa/OneDrive/Jupyter_files/shallow_models_online/cic_train_sample_binary.csv\"\n",
    "CICDataset = MyDataset(sample_path, selected_features_total)\n",
    "batch_size = 64\n",
    "dataloader = DataLoader(CICDataset, batch_size=batch_size, \n",
    "                          shuffle=True, drop_last=True)"
   ]
  },
  {
   "cell_type": "code",
   "execution_count": 19,
   "id": "8e7f2c41-7fd2-4c2c-9558-911d2cf1f8f6",
   "metadata": {},
   "outputs": [],
   "source": [
    "# Define the generator model\n",
    "\n",
    "class Generator(nn.Module):\n",
    "    def __init__(self):\n",
    "        super(Generator, self).__init__()\n",
    "        self.model = nn.Sequential(\n",
    "            nn.Linear(latent_dim + 1, 16),\n",
    "            nn.LeakyReLU(0.2, inplace=True),\n",
    "            nn.Linear(16, 24),\n",
    "            nn.BatchNorm1d(24, 0.8),\n",
    "            nn.LeakyReLU(0.2, inplace=True),\n",
    "            nn.Linear(24, 32),\n",
    "            nn.BatchNorm1d(32, 0.8),\n",
    "            nn.LeakyReLU(0.2, inplace=True),\n",
    "            nn.Linear(32, 40),\n",
    "            nn.BatchNorm1d(40, 0.8),\n",
    "            nn.LeakyReLU(0.2, inplace=True),\n",
    "            nn.Linear(40, data_dim),\n",
    "            nn.Sigmoid()\n",
    "        )\n",
    "\n",
    "    def forward(self, z, label):\n",
    "        label = torch.full((batch_size, 1), label)\n",
    "        z = torch.cat((noise, label), 1)\n",
    "        data = self.model(z)\n",
    "        return data\n",
    "    \n"
   ]
  },
  {
   "cell_type": "code",
   "execution_count": 20,
   "id": "7a1b526a-6105-48fe-883f-3113f2480a47",
   "metadata": {},
   "outputs": [],
   "source": [
    "# Define the discriminator model\n",
    "\n",
    "class Discriminator(nn.Module):\n",
    "    def __init__(self):\n",
    "        super(Discriminator, self).__init__()\n",
    "        self.model = nn.Sequential(\n",
    "            nn.Linear(data_dim, 40),\n",
    "            nn.LeakyReLU(0.2, inplace=True),\n",
    "            nn.Linear(40, 32),\n",
    "            nn.LeakyReLU(0.2, inplace=True),\n",
    "            nn.Linear(32, 16),\n",
    "            nn.LeakyReLU(0.2, inplace=True),\n",
    "            nn.Linear(16, 8),\n",
    "            nn.LeakyReLU(0.2, inplace=True),\n",
    "            nn.Linear(8, 1),\n",
    "            nn.Sigmoid()\n",
    "        )\n",
    "\n",
    "    def forward(self, data):\n",
    "        validity = self.model(data)\n",
    "        return validity\n",
    "    \n",
    "    "
   ]
  },
  {
   "cell_type": "code",
   "execution_count": 21,
   "id": "80938735-654d-4141-884f-d09bf28bf403",
   "metadata": {},
   "outputs": [
    {
     "name": "stdout",
     "output_type": "stream",
     "text": [
      "47\n"
     ]
    },
    {
     "ename": "AttributeError",
     "evalue": "module 'torch.nn' has no attribute 'sigmoid'",
     "output_type": "error",
     "traceback": [
      "\u001b[1;31m---------------------------------------------------------------------------\u001b[0m",
      "\u001b[1;31mAttributeError\u001b[0m                            Traceback (most recent call last)",
      "Cell \u001b[1;32mIn[21], line 8\u001b[0m\n\u001b[0;32m      6\u001b[0m lr \u001b[38;5;241m=\u001b[39m \u001b[38;5;241m0.0002\u001b[39m\n\u001b[0;32m      7\u001b[0m adversarial_loss \u001b[38;5;241m=\u001b[39m nn\u001b[38;5;241m.\u001b[39mBCELoss()\n\u001b[1;32m----> 8\u001b[0m generator \u001b[38;5;241m=\u001b[39m \u001b[43mGenerator\u001b[49m\u001b[43m(\u001b[49m\u001b[43m)\u001b[49m\n\u001b[0;32m      9\u001b[0m discriminator \u001b[38;5;241m=\u001b[39m Discriminator()\n\u001b[0;32m     10\u001b[0m optimizer_G \u001b[38;5;241m=\u001b[39m optim\u001b[38;5;241m.\u001b[39mAdam(generator\u001b[38;5;241m.\u001b[39mparameters(), lr\u001b[38;5;241m=\u001b[39mlr, betas\u001b[38;5;241m=\u001b[39m(\u001b[38;5;241m0.5\u001b[39m, \u001b[38;5;241m0.999\u001b[39m))\n",
      "Cell \u001b[1;32mIn[19], line 19\u001b[0m, in \u001b[0;36mGenerator.__init__\u001b[1;34m(self)\u001b[0m\n\u001b[0;32m      4\u001b[0m \u001b[38;5;28;01mdef\u001b[39;00m \u001b[38;5;21m__init__\u001b[39m(\u001b[38;5;28mself\u001b[39m):\n\u001b[0;32m      5\u001b[0m     \u001b[38;5;28msuper\u001b[39m(Generator, \u001b[38;5;28mself\u001b[39m)\u001b[38;5;241m.\u001b[39m\u001b[38;5;21m__init__\u001b[39m()\n\u001b[0;32m      6\u001b[0m     \u001b[38;5;28mself\u001b[39m\u001b[38;5;241m.\u001b[39mmodel \u001b[38;5;241m=\u001b[39m nn\u001b[38;5;241m.\u001b[39mSequential(\n\u001b[0;32m      7\u001b[0m         nn\u001b[38;5;241m.\u001b[39mLinear(latent_dim \u001b[38;5;241m+\u001b[39m \u001b[38;5;241m1\u001b[39m, \u001b[38;5;241m16\u001b[39m),\n\u001b[0;32m      8\u001b[0m         nn\u001b[38;5;241m.\u001b[39mLeakyReLU(\u001b[38;5;241m0.2\u001b[39m, inplace\u001b[38;5;241m=\u001b[39m\u001b[38;5;28;01mTrue\u001b[39;00m),\n\u001b[0;32m      9\u001b[0m         nn\u001b[38;5;241m.\u001b[39mLinear(\u001b[38;5;241m16\u001b[39m, \u001b[38;5;241m24\u001b[39m),\n\u001b[0;32m     10\u001b[0m         nn\u001b[38;5;241m.\u001b[39mBatchNorm1d(\u001b[38;5;241m24\u001b[39m, \u001b[38;5;241m0.8\u001b[39m),\n\u001b[0;32m     11\u001b[0m         nn\u001b[38;5;241m.\u001b[39mLeakyReLU(\u001b[38;5;241m0.2\u001b[39m, inplace\u001b[38;5;241m=\u001b[39m\u001b[38;5;28;01mTrue\u001b[39;00m),\n\u001b[0;32m     12\u001b[0m         nn\u001b[38;5;241m.\u001b[39mLinear(\u001b[38;5;241m24\u001b[39m, \u001b[38;5;241m32\u001b[39m),\n\u001b[0;32m     13\u001b[0m         nn\u001b[38;5;241m.\u001b[39mBatchNorm1d(\u001b[38;5;241m32\u001b[39m, \u001b[38;5;241m0.8\u001b[39m),\n\u001b[0;32m     14\u001b[0m         nn\u001b[38;5;241m.\u001b[39mLeakyReLU(\u001b[38;5;241m0.2\u001b[39m, inplace\u001b[38;5;241m=\u001b[39m\u001b[38;5;28;01mTrue\u001b[39;00m),\n\u001b[0;32m     15\u001b[0m         nn\u001b[38;5;241m.\u001b[39mLinear(\u001b[38;5;241m32\u001b[39m, \u001b[38;5;241m40\u001b[39m),\n\u001b[0;32m     16\u001b[0m         nn\u001b[38;5;241m.\u001b[39mBatchNorm1d(\u001b[38;5;241m40\u001b[39m, \u001b[38;5;241m0.8\u001b[39m),\n\u001b[0;32m     17\u001b[0m         nn\u001b[38;5;241m.\u001b[39mLeakyReLU(\u001b[38;5;241m0.2\u001b[39m, inplace\u001b[38;5;241m=\u001b[39m\u001b[38;5;28;01mTrue\u001b[39;00m),\n\u001b[0;32m     18\u001b[0m         nn\u001b[38;5;241m.\u001b[39mLinear(\u001b[38;5;241m40\u001b[39m, data_dim),\n\u001b[1;32m---> 19\u001b[0m         \u001b[43mnn\u001b[49m\u001b[38;5;241;43m.\u001b[39;49m\u001b[43msigmoid\u001b[49m()\n\u001b[0;32m     20\u001b[0m     )\n",
      "\u001b[1;31mAttributeError\u001b[0m: module 'torch.nn' has no attribute 'sigmoid'"
     ]
    }
   ],
   "source": [
    "# Definition of hyperparameters\n",
    "\n",
    "data_dim=len(selected_features_total)\n",
    "latent_dim = 8\n",
    "print(data_dim)\n",
    "lr = 0.0002\n",
    "adversarial_loss = nn.BCELoss()\n",
    "generator = Generator()\n",
    "discriminator = Discriminator()\n",
    "optimizer_G = optim.Adam(generator.parameters(), lr=lr, betas=(0.5, 0.999))\n",
    "optimizer_D = optim.Adam(discriminator.parameters(), lr=lr, betas=(0.5, 0.999))"
   ]
  },
  {
   "cell_type": "code",
   "execution_count": null,
   "id": "9c663729-ff33-4ea9-a470-0e1cf2c7b886",
   "metadata": {},
   "outputs": [],
   "source": [
    "noise = torch.randn(batch_size, latent_dim)"
   ]
  },
  {
   "cell_type": "code",
   "execution_count": null,
   "id": "10da37bd-24f5-4771-8a28-918cb1772d2e",
   "metadata": {},
   "outputs": [],
   "source": [
    "epochs_lst = [5, 10, 15, 20, 25, 30]"
   ]
  },
  {
   "cell_type": "code",
   "execution_count": null,
   "id": "ab3315ec-ec36-40ad-adf1-4b2a582b9ba8",
   "metadata": {},
   "outputs": [],
   "source": [
    "for epoch in range(num_epochs):\n",
    "    for i, (data, labels) in enumerate(dataloader):\n",
    "        batch_size = data.shape[0]\n",
    "        real_data = Variable(data.type(FloatTensor))        \n",
    "        labels = Variable(labels.float())\n",
    "        labels = labels.view(-1, 1).type(FloatTensor)\n",
    "        \n",
    "        # Train the discriminator\n",
    "        optimizer_D.zero_grad()\n",
    "        d_real_outputs = discriminator(real_data)\n",
    "        d_real_loss = adversarial_loss(d_real_outputs, labels)\n",
    "        \n",
    "        fake_data = generator(noise, 0)\n",
    "        d_fake_outputs = discriminator(fake_data.detach())\n",
    "        d_fake_loss1 = adversarial_loss(d_fake_outputs, torch.full((batch_size, 1), 0.4).type(FloatTensor))\n",
    "        \n",
    "        fake_data = generator(noise, 1)\n",
    "        d_fake_outputs = discriminator(fake_data.detach())\n",
    "        d_fake_loss2 = adversarial_loss(d_fake_outputs, torch.full((batch_size, 1), 0.6).type(FloatTensor))\n",
    "        \n",
    "        d_loss = d_real_loss + d_fake_loss1 + d_fake_loss2\n",
    "        d_loss.backward()\n",
    "        optimizer_D.step()\n",
    "        \n",
    "        # Train the generator\n",
    "        optimizer_G.zero_grad()\n",
    "        noise = torch.randn(batch_size, latent_dim)\n",
    "        fake_data = generator(noise, 0)\n",
    "        d_fake_outputs = discriminator(fake_data)\n",
    "        targets = torch.full((batch_size, 1), 0)\n",
    "        g_loss1 = adversarial_loss(d_fake_outputs, targets.float())\n",
    "\n",
    "        noise = torch.randn(batch_size, latent_dim)\n",
    "        fake_data = generator(noise, 1)\n",
    "        d_fake_outputs = discriminator(fake_data)\n",
    "        targets = torch.full((batch_size, 1), 1)\n",
    "        g_loss2 = adversarial_loss(d_fake_outputs, targets.float())\n",
    "        \n",
    "        g_loss = g_loss1 + g_loss2\n",
    "        g_loss.backward()\n",
    "        optimizer_G.step()\n",
    "        \n",
    "\n",
    "        # Print the loss for each epoch\n",
    "        if i % 1000 == 0:\n",
    "            print(\"[Epoch %d/%d] [Batch %d/%d] [D loss: %f] [G loss: %f]\" % (epoch, num_epochs, i, len(dataloader), d_loss.item(), g_loss.item()))\n",
    "\n",
    "    print('Saving models...')\n",
    "    # save discriminator model used for classification\n",
    "    PATH_disc = './models/discr_model-'\n",
    "    PATH = PATH_disc + 'lr=' + str(lr) + '-batch=' + str(batch_size) + '-epochs=' + str(epoch) + '.pth'\n",
    "    torch.save(discriminator.state_dict(), PATH)\n",
    "    \n",
    "    # save generator model\n",
    "    PATH_gen = './models/gen_model-'\n",
    "    PATH = PATH_gen + 'lr=' + str(lr) + '-batch=' + str(batch_size) + '-epochs=' + str(epoch) + '.pth'\n",
    "    torch.save(generator.state_dict(), PATH)"
   ]
  }
 ],
 "metadata": {
  "kernelspec": {
   "display_name": "Python 3 (ipykernel)",
   "language": "python",
   "name": "python3"
  },
  "language_info": {
   "codemirror_mode": {
    "name": "ipython",
    "version": 3
   },
   "file_extension": ".py",
   "mimetype": "text/x-python",
   "name": "python",
   "nbconvert_exporter": "python",
   "pygments_lexer": "ipython3",
   "version": "3.10.10"
  }
 },
 "nbformat": 4,
 "nbformat_minor": 5
}
