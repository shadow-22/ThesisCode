{
 "cells": [
  {
   "cell_type": "code",
   "execution_count": 1,
   "id": "921feb57-2401-4932-a99f-c232ca6c88e3",
   "metadata": {},
   "outputs": [],
   "source": [
    "import pandas as pd\n",
    "import numpy as np\n",
    "from sklearn.model_selection import train_test_split\n",
    "from sklearn.model_selection import cross_val_score\n",
    "from sklearn.model_selection import GridSearchCV\n",
    "from sklearn.impute import SimpleImputer\n",
    "from sklearn.preprocessing import StandardScaler\n",
    "from sklearn.preprocessing import OneHotEncoder\n",
    "from sklearn.preprocessing import OrdinalEncoder\n",
    "from sklearn.tree import DecisionTreeClassifier\n",
    "from sklearn import metrics\n",
    "import pickle\n",
    "from imblearn.over_sampling import RandomOverSampler\n",
    "from glob import glob\n",
    "import nfstream\n",
    "import matplotlib.pyplot as plt\n",
    "from sklearn.compose import make_column_transformer\n",
    "from sklearn.pipeline import make_pipeline\n",
    "import os.path\n",
    "from sklearn.svm import SVC"
   ]
  },
  {
   "cell_type": "code",
   "execution_count": 2,
   "id": "bdee1667-6538-40ef-a648-9de66a17f490",
   "metadata": {},
   "outputs": [],
   "source": [
    "pipe = make_pipeline(\n",
    "    SimpleImputer(), StandardScaler(), SVC(C=0.1, gamma=1, kernel='poly')\n",
    ")"
   ]
  },
  {
   "cell_type": "code",
   "execution_count": 3,
   "id": "277db9b7-375b-4a5b-912e-20a99015c942",
   "metadata": {},
   "outputs": [
    {
     "name": "stdout",
     "output_type": "stream",
     "text": [
      "141537\n",
      "14154\n"
     ]
    }
   ],
   "source": [
    "train_dataset_path = 'C:/Users/katsa/OneDrive/Jupyter_files/shallow_models_online/cic_train_sample_binary.csv'\n",
    "CICDataset_train = pd.read_csv(train_dataset_path)\n",
    "print(len(CICDataset_train))\n",
    "CICDataset_train = CICDataset_train.sample(frac=1/10)\n",
    "print(len(CICDataset_train))\n",
    "X_train, y_train = CICDataset_train.iloc[:, :-1], CICDataset_train['Label']"
   ]
  },
  {
   "cell_type": "code",
   "execution_count": 4,
   "id": "27a6614e-97f1-47bc-a8ed-9893d61f9ea4",
   "metadata": {},
   "outputs": [
    {
     "name": "stdout",
     "output_type": "stream",
     "text": [
      "283074\n"
     ]
    }
   ],
   "source": [
    "test_dataset_path = 'C:/Users/katsa/OneDrive/Jupyter_files/shallow_models_online/cic_test_sample_binary.csv'\n",
    "CICDataset_test = pd.read_csv(test_dataset_path)\n",
    "print(len(CICDataset_test))\n",
    "# CICDataset_test = CICDataset_test.sample(frac=1/6)\n",
    "# print(len(CICDataset_test))\n",
    "X_test, y_test = CICDataset_test.iloc[:, :-1], CICDataset_test['Label']"
   ]
  },
  {
   "cell_type": "code",
   "execution_count": 5,
   "id": "35c79da3-13c8-4dd2-9a97-30395e3a3cce",
   "metadata": {},
   "outputs": [
    {
     "name": "stdout",
     "output_type": "stream",
     "text": [
      "0.9786133661162806\n",
      "              precision    recall  f1-score   support\n",
      "\n",
      "      ATTACK       0.92      0.98      0.95     55763\n",
      "      BENIGN       0.99      0.98      0.99    227311\n",
      "\n",
      "    accuracy                           0.98    283074\n",
      "   macro avg       0.96      0.98      0.97    283074\n",
      "weighted avg       0.98      0.98      0.98    283074\n",
      "\n"
     ]
    }
   ],
   "source": [
    "pipe.fit(X_train.to_numpy(), y_train.to_numpy())\n",
    "predictions = pipe.predict(X_test.to_numpy())\n",
    "print(metrics.accuracy_score(y_test.to_numpy(), predictions))\n",
    "print(metrics.classification_report(y_test.to_numpy(), predictions))"
   ]
  },
  {
   "cell_type": "code",
   "execution_count": null,
   "id": "b10332bd-1eb2-4429-9fd0-24251bdb96b4",
   "metadata": {},
   "outputs": [],
   "source": [
    "CICDataset_test = CICDataset_test.sample(frac=1/6)\n",
    "print(len(CICDataset_test))\n",
    "X_test, y_test = CICDataset_test.iloc[:, :-1], CICDataset_test['Label']"
   ]
  },
  {
   "cell_type": "code",
   "execution_count": null,
   "id": "0ac5dc5b-a448-40e0-8df9-348a4e49a6df",
   "metadata": {},
   "outputs": [],
   "source": [
    "predictions = pipe.predict(X_test.to_numpy())\n",
    "print(metrics.accuracy_score(y_test.to_numpy(), predictions))\n",
    "print(metrics.classification_report(y_test.to_numpy(), predictions))"
   ]
  },
  {
   "cell_type": "code",
   "execution_count": 6,
   "id": "950aeb63-9312-4e42-b680-6c53323c4030",
   "metadata": {},
   "outputs": [
    {
     "data": {
      "text/plain": [
       "['scaler']"
      ]
     },
     "execution_count": 6,
     "metadata": {},
     "output_type": "execute_result"
    }
   ],
   "source": [
    "import joblib\n",
    "joblib.dump(pipe, \"SVMmodel\")\n",
    "joblib.dump(pipe[1], \"scaler\")"
   ]
  }
 ],
 "metadata": {
  "kernelspec": {
   "display_name": "Python 3 (ipykernel)",
   "language": "python",
   "name": "python3"
  },
  "language_info": {
   "codemirror_mode": {
    "name": "ipython",
    "version": 3
   },
   "file_extension": ".py",
   "mimetype": "text/x-python",
   "name": "python",
   "nbconvert_exporter": "python",
   "pygments_lexer": "ipython3",
   "version": "3.10.10"
  }
 },
 "nbformat": 4,
 "nbformat_minor": 5
}
