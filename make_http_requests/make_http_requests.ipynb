{
 "cells": [
  {
   "cell_type": "code",
   "execution_count": 1,
   "id": "fa3b8dc0-3bd5-4fab-8723-c3b08a423784",
   "metadata": {},
   "outputs": [],
   "source": [
    "import requests\n",
    "import glob"
   ]
  },
  {
   "cell_type": "code",
   "execution_count": 2,
   "id": "394f9ca6-1e63-4657-be4e-6f42c12e4a13",
   "metadata": {},
   "outputs": [
    {
     "name": "stdout",
     "output_type": "stream",
     "text": [
      "['urls.txt']\n"
     ]
    }
   ],
   "source": [
    "txt_lst = glob.glob('*.txt')\n",
    "print(txt_lst)"
   ]
  },
  {
   "cell_type": "code",
   "execution_count": 3,
   "id": "b0340090-518b-4e88-acc2-414956fe2ac7",
   "metadata": {},
   "outputs": [
    {
     "name": "stdout",
     "output_type": "stream",
     "text": [
      "['google.com', 'youtube.com', 'facebook.com', 'twitter.com', 'instagram.com', 'baidu.com', 'wikipedia.org', 'yandex.ru', 'yahoo.com', 'whatsapp.com', 'xvideos.com', 'pornhub.com', 'xnxx.com', 'live.com', 'tiktok.com', 'linkedin.com', 'reddit.com', 'openai.com', 'office.com', 'netflix.com', 'dzen.ru', 'bing.com', 'vk.com', 'xhamster.com', 'samsung.com', 'kathimerini.gr', 'capital.gr', 'in.gr', 'esos.gr', 'shmmy.ntua.gr', 'ntua.gr', 'ece.ntua.gr', 'efsyn.gr', 'ischool.gr', 'gov.gr']\n"
     ]
    }
   ],
   "source": [
    "with open(txt_lst[0], \"r\") as file:\n",
    "    urls = file.read().splitlines()\n",
    "\n",
    "print(urls)"
   ]
  },
  {
   "cell_type": "code",
   "execution_count": 4,
   "id": "c7285fd7-54cc-4663-ac24-d21acef9bfa6",
   "metadata": {},
   "outputs": [
    {
     "name": "stdout",
     "output_type": "stream",
     "text": [
      "Connection error, retrying in 5 seconds...\n",
      "Connection error, retrying in 5 seconds...\n",
      "Connection error, retrying in 5 seconds...\n"
     ]
    }
   ],
   "source": [
    "import time\n",
    "\n",
    "responses_lst = []\n",
    "\n",
    "retries = 3\n",
    "delay = 5\n",
    "\n",
    "for url in urls:\n",
    "    if not url.startswith('http'):\n",
    "        url = 'http://' + url\n",
    "    \n",
    "    for i in range(retries):\n",
    "        try:\n",
    "            response = requests.get(url, timeout=5)\n",
    "            responses_lst.append(response)\n",
    "            break\n",
    "        except requests.exceptions.ConnectionError:\n",
    "            print(f\"Connection error, retrying in {delay} seconds...\")\n",
    "            time.sleep(delay)\n",
    "        except requests.exceptions.Timeout:\n",
    "            print(f\"Timeout error, retrying in {delay} seconds...\")\n",
    "            time.sleep(delay)"
   ]
  },
  {
   "cell_type": "code",
   "execution_count": 5,
   "id": "e8809629-36ba-4486-adb7-e18588af2646",
   "metadata": {},
   "outputs": [
    {
     "name": "stdout",
     "output_type": "stream",
     "text": [
      "[<Response [200]>, <Response [200]>, <Response [200]>, <Response [200]>, <Response [200]>, <Response [200]>, <Response [200]>, <Response [200]>, <Response [200]>, <Response [200]>, <Response [200]>, <Response [200]>, <Response [200]>, <Response [200]>, <Response [200]>, <Response [200]>, <Response [200]>, <Response [200]>, <Response [200]>, <Response [200]>, <Response [200]>, <Response [200]>, <Response [200]>, <Response [200]>, <Response [200]>, <Response [200]>, <Response [200]>, <Response [200]>, <Response [200]>, <Response [200]>, <Response [200]>, <Response [200]>, <Response [200]>, <Response [200]>]\n"
     ]
    }
   ],
   "source": [
    "print(responses_lst)"
   ]
  }
 ],
 "metadata": {
  "kernelspec": {
   "display_name": "Python 3 (ipykernel)",
   "language": "python",
   "name": "python3"
  },
  "language_info": {
   "codemirror_mode": {
    "name": "ipython",
    "version": 3
   },
   "file_extension": ".py",
   "mimetype": "text/x-python",
   "name": "python",
   "nbconvert_exporter": "python",
   "pygments_lexer": "ipython3",
   "version": "3.10.10"
  }
 },
 "nbformat": 4,
 "nbformat_minor": 5
}
