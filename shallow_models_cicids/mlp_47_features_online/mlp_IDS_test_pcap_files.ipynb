{
 "cells": [
  {
   "cell_type": "code",
   "execution_count": 29,
   "id": "cd21a4ac-f7df-47f0-9442-00988077a476",
   "metadata": {},
   "outputs": [],
   "source": [
    "from nfstream import NFStreamer, NFPlugin\n",
    "import pandas as pd\n",
    "from sklearn.impute import SimpleImputer\n",
    "import numpy as np"
   ]
  },
  {
   "cell_type": "code",
   "execution_count": 30,
   "id": "6e60afdb-2f49-4ea2-a9ae-91459d23e5ba",
   "metadata": {},
   "outputs": [],
   "source": [
    "import joblib\n",
    "model = joblib.load('MLPmodel')\n",
    "sscaler = joblib.load('scaler')"
   ]
  },
  {
   "cell_type": "code",
   "execution_count": 31,
   "id": "1e2503c3-ecc0-4ee5-9860-d6d7153c8496",
   "metadata": {},
   "outputs": [],
   "source": [
    "from ModelPredictionPcaps import ModelPrediction"
   ]
  },
  {
   "cell_type": "code",
   "execution_count": 32,
   "id": "539134a6-9598-43d8-9264-b49cfc3bb3c2",
   "metadata": {},
   "outputs": [],
   "source": [
    "source = 'C:/Users/katsa/OneDrive/copy_jupyter_desktop/Pcap-files/eternalblue-success-unpatched-win7.pcap'"
   ]
  },
  {
   "cell_type": "code",
   "execution_count": 33,
   "id": "b8ff6bed-212e-448a-b6a4-2d5d372427a1",
   "metadata": {},
   "outputs": [],
   "source": [
    "source = 'C:/Users/katsa/OneDrive/Jupyter_files/Network-Traffic-PCAP-Files/net-discover.pcap'"
   ]
  },
  {
   "cell_type": "code",
   "execution_count": 34,
   "id": "f1efc318-3677-494a-bb32-0f398e440e22",
   "metadata": {},
   "outputs": [],
   "source": [
    "# the max_nflows is only implemented in latest version of nfstream!\n",
    "ml_streamer = NFStreamer(source=source,\n",
    "                        udps=ModelPrediction(my_model=model, my_scaler=sscaler),\n",
    "                        statistical_analysis=True)"
   ]
  },
  {
   "cell_type": "code",
   "execution_count": 35,
   "id": "b4c31579-2fb9-46c3-abaa-594096c89886",
   "metadata": {},
   "outputs": [
    {
     "name": "stdout",
     "output_type": "stream",
     "text": [
      "Number of normal connections: 139\n",
      "Number of attack connections: 0\n",
      "\n"
     ]
    }
   ],
   "source": [
    "flows_predictions = []\n",
    "n_normal = 0\n",
    "n_attacks = 0\n",
    "for flow in ml_streamer:\n",
    "    prediction = flow.udps.model_prediction\n",
    "    flows_predictions.append(prediction)\n",
    "    if prediction == 'BENIGN':\n",
    "        n_normal += 1\n",
    "    elif prediction == 'ATTACK':\n",
    "        n_attacks += 1\n",
    "    # print(\"Prediction:\" + str(prediction))\n",
    "print(\"Number of normal connections: \" + str(n_normal))\n",
    "print(\"Number of attack connections: \" + str(n_attacks))\n",
    "print(\"\")"
   ]
  }
 ],
 "metadata": {
  "kernelspec": {
   "display_name": "Python 3 (ipykernel)",
   "language": "python",
   "name": "python3"
  },
  "language_info": {
   "codemirror_mode": {
    "name": "ipython",
    "version": 3
   },
   "file_extension": ".py",
   "mimetype": "text/x-python",
   "name": "python",
   "nbconvert_exporter": "python",
   "pygments_lexer": "ipython3",
   "version": "3.10.10"
  }
 },
 "nbformat": 4,
 "nbformat_minor": 5
}
