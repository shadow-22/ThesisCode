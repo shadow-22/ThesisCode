{
 "cells": [
  {
   "cell_type": "code",
   "execution_count": 15,
   "id": "d2d15083-f5e4-4f4e-a37a-31d985124e2a",
   "metadata": {},
   "outputs": [],
   "source": [
    "import pandas as pd\n",
    "import numpy as np\n",
    "from imblearn.over_sampling import RandomOverSampler \n",
    "from imblearn.over_sampling import SMOTE\n",
    "from collections import Counter\n",
    "from sklearn.impute import SimpleImputer\n",
    "from imblearn.pipeline import Pipeline"
   ]
  },
  {
   "cell_type": "code",
   "execution_count": 2,
   "id": "14125c50-dbf9-48b2-ba4b-29f2f9fb91e1",
   "metadata": {},
   "outputs": [],
   "source": [
    "train_dataset_path = 'C:/Users/katsa/OneDrive/Jupyter_files/shallow_models_online/cic_train_sample_binary.csv'\n",
    "CICDataset_train = pd.read_csv(train_dataset_path)\n",
    "X_train, y_train = CICDataset_train.iloc[:, :-1], CICDataset_train['Label']"
   ]
  },
  {
   "cell_type": "code",
   "execution_count": 3,
   "id": "6885a956-2d70-4e80-937b-e3131c35fe86",
   "metadata": {},
   "outputs": [],
   "source": [
    "ros = RandomOverSampler(random_state=42)\n",
    "X_resampled, y_resampled = ros.fit_resample(X_train, y_train)"
   ]
  },
  {
   "cell_type": "code",
   "execution_count": 4,
   "id": "59adfce7-5ed9-4ee9-95fa-fd24cdae4521",
   "metadata": {},
   "outputs": [
    {
     "name": "stdout",
     "output_type": "stream",
     "text": [
      "ATTACK    113747\n",
      "BENIGN    113747\n",
      "Name: Label, dtype: int64\n",
      "Axes(0.22375,0.11;0.5775x0.77)\n"
     ]
    },
    {
     "data": {
      "image/png": "[encoded data removed]",
      "text/plain": [
       "<Figure size 640x480 with 1 Axes>"
      ]
     },
     "metadata": {},
     "output_type": "display_data"
    }
   ],
   "source": [
    "print(y_resampled.value_counts())\n",
    "print(y_resampled.value_counts().plot.pie())"
   ]
  },
  {
   "cell_type": "code",
   "execution_count": 5,
   "id": "f6f38183-3ad2-40d1-9aea-068466ebdaa4",
   "metadata": {},
   "outputs": [],
   "source": [
    "df_cic_balanced = pd.concat([X_resampled, y_resampled], axis=1)"
   ]
  },
  {
   "cell_type": "code",
   "execution_count": 6,
   "id": "84ca426a-abf4-4d4d-b125-d749b0448c6f",
   "metadata": {},
   "outputs": [],
   "source": [
    "df_cic_balanced.to_csv(\"cic_train_sample_binary_randomoversampled.csv\", index=False)"
   ]
  },
  {
   "cell_type": "code",
   "execution_count": 7,
   "id": "c5745828-3d5d-4fac-9efe-a5a9ec50325a",
   "metadata": {},
   "outputs": [
    {
     "name": "stdout",
     "output_type": "stream",
     "text": [
      "Class distribution before oversampling: Counter({'BENIGN': 113747, 'ATTACK': 27790})\n"
     ]
    }
   ],
   "source": [
    "print('Class distribution before oversampling:', Counter(y_train))"
   ]
  },
  {
   "cell_type": "code",
   "execution_count": 16,
   "id": "b4c60564-fec2-4a07-8b6c-22fae2d5cc36",
   "metadata": {},
   "outputs": [],
   "source": [
    "pipeline = Pipeline([\n",
    "    ('imputer', SimpleImputer(strategy='mean')),\n",
    "    ('smote', SMOTE(random_state=42))\n",
    "])"
   ]
  },
  {
   "cell_type": "code",
   "execution_count": 17,
   "id": "4f7e8d19-41e1-497a-b218-7fb96eb5db8f",
   "metadata": {},
   "outputs": [],
   "source": [
    "X_resampled2, y_resampled2 = pipeline.fit_resample(X_train, y_train)"
   ]
  },
  {
   "cell_type": "code",
   "execution_count": 18,
   "id": "552633a4-8829-408e-9a1d-aceb8be2cea8",
   "metadata": {},
   "outputs": [
    {
     "name": "stdout",
     "output_type": "stream",
     "text": [
      "Class distribution after oversampling: Counter({'ATTACK': 113747, 'BENIGN': 113747})\n"
     ]
    }
   ],
   "source": [
    "print('Class distribution after oversampling:', Counter(y_resampled2))"
   ]
  },
  {
   "cell_type": "code",
   "execution_count": 21,
   "id": "f1639b89-cfa6-4698-92dc-81db5ae531f6",
   "metadata": {},
   "outputs": [],
   "source": [
    "np_cic_balanced_smote = np.concatenate((X_resampled2, y_resampled2.values.reshape(-1, 1)), axis=1)"
   ]
  },
  {
   "cell_type": "code",
   "execution_count": 23,
   "id": "58e9cb09-bce0-48cc-8929-58a4af007114",
   "metadata": {},
   "outputs": [
    {
     "data": {
      "text/html": [
       "<div>\n",
       "<style scoped>\n",
       "    .dataframe tbody tr th:only-of-type {\n",
       "        vertical-align: middle;\n",
       "    }\n",
       "\n",
       "    .dataframe tbody tr th {\n",
       "        vertical-align: top;\n",
       "    }\n",
       "\n",
       "    .dataframe thead th {\n",
       "        text-align: right;\n",
       "    }\n",
       "</style>\n",
       "<table border=\"1\" class=\"dataframe\">\n",
       "  <thead>\n",
       "    <tr style=\"text-align: right;\">\n",
       "      <th></th>\n",
       "      <th>Destination Port</th>\n",
       "      <th>Flow Duration</th>\n",
       "      <th>Total Fwd Packets</th>\n",
       "      <th>Total Backward Packets</th>\n",
       "      <th>Total Length of Fwd Packets</th>\n",
       "      <th>Total Length of Bwd Packets</th>\n",
       "      <th>Fwd Packet Length Max</th>\n",
       "      <th>Fwd Packet Length Min</th>\n",
       "      <th>Fwd Packet Length Mean</th>\n",
       "      <th>Fwd Packet Length Std</th>\n",
       "      <th>...</th>\n",
       "      <th>min_seg_size_forward</th>\n",
       "      <th>Active Mean</th>\n",
       "      <th>Active Std</th>\n",
       "      <th>Active Max</th>\n",
       "      <th>Active Min</th>\n",
       "      <th>Idle Mean</th>\n",
       "      <th>Idle Std</th>\n",
       "      <th>Idle Max</th>\n",
       "      <th>Idle Min</th>\n",
       "      <th>Label</th>\n",
       "    </tr>\n",
       "  </thead>\n",
       "  <tbody>\n",
       "    <tr>\n",
       "      <th>0</th>\n",
       "      <td>80.0</td>\n",
       "      <td>249.0</td>\n",
       "      <td>2.0</td>\n",
       "      <td>0.0</td>\n",
       "      <td>0.0</td>\n",
       "      <td>0.0</td>\n",
       "      <td>0.0</td>\n",
       "      <td>0.0</td>\n",
       "      <td>0.0</td>\n",
       "      <td>0.0</td>\n",
       "      <td>...</td>\n",
       "      <td>32.0</td>\n",
       "      <td>0.0</td>\n",
       "      <td>0.0</td>\n",
       "      <td>0.0</td>\n",
       "      <td>0.0</td>\n",
       "      <td>0.0</td>\n",
       "      <td>0.0</td>\n",
       "      <td>0.0</td>\n",
       "      <td>0.0</td>\n",
       "      <td>ATTACK</td>\n",
       "    </tr>\n",
       "    <tr>\n",
       "      <th>1</th>\n",
       "      <td>80.0</td>\n",
       "      <td>1.0</td>\n",
       "      <td>2.0</td>\n",
       "      <td>0.0</td>\n",
       "      <td>0.0</td>\n",
       "      <td>0.0</td>\n",
       "      <td>0.0</td>\n",
       "      <td>0.0</td>\n",
       "      <td>0.0</td>\n",
       "      <td>0.0</td>\n",
       "      <td>...</td>\n",
       "      <td>32.0</td>\n",
       "      <td>0.0</td>\n",
       "      <td>0.0</td>\n",
       "      <td>0.0</td>\n",
       "      <td>0.0</td>\n",
       "      <td>0.0</td>\n",
       "      <td>0.0</td>\n",
       "      <td>0.0</td>\n",
       "      <td>0.0</td>\n",
       "      <td>ATTACK</td>\n",
       "    </tr>\n",
       "    <tr>\n",
       "      <th>2</th>\n",
       "      <td>55209.0</td>\n",
       "      <td>15.0</td>\n",
       "      <td>1.0</td>\n",
       "      <td>1.0</td>\n",
       "      <td>0.0</td>\n",
       "      <td>0.0</td>\n",
       "      <td>0.0</td>\n",
       "      <td>0.0</td>\n",
       "      <td>0.0</td>\n",
       "      <td>0.0</td>\n",
       "      <td>...</td>\n",
       "      <td>20.0</td>\n",
       "      <td>0.0</td>\n",
       "      <td>0.0</td>\n",
       "      <td>0.0</td>\n",
       "      <td>0.0</td>\n",
       "      <td>0.0</td>\n",
       "      <td>0.0</td>\n",
       "      <td>0.0</td>\n",
       "      <td>0.0</td>\n",
       "      <td>BENIGN</td>\n",
       "    </tr>\n",
       "    <tr>\n",
       "      <th>3</th>\n",
       "      <td>36778.0</td>\n",
       "      <td>3.0</td>\n",
       "      <td>2.0</td>\n",
       "      <td>0.0</td>\n",
       "      <td>0.0</td>\n",
       "      <td>0.0</td>\n",
       "      <td>0.0</td>\n",
       "      <td>0.0</td>\n",
       "      <td>0.0</td>\n",
       "      <td>0.0</td>\n",
       "      <td>...</td>\n",
       "      <td>32.0</td>\n",
       "      <td>0.0</td>\n",
       "      <td>0.0</td>\n",
       "      <td>0.0</td>\n",
       "      <td>0.0</td>\n",
       "      <td>0.0</td>\n",
       "      <td>0.0</td>\n",
       "      <td>0.0</td>\n",
       "      <td>0.0</td>\n",
       "      <td>BENIGN</td>\n",
       "    </tr>\n",
       "    <tr>\n",
       "      <th>4</th>\n",
       "      <td>54347.0</td>\n",
       "      <td>25.0</td>\n",
       "      <td>1.0</td>\n",
       "      <td>1.0</td>\n",
       "      <td>0.0</td>\n",
       "      <td>0.0</td>\n",
       "      <td>0.0</td>\n",
       "      <td>0.0</td>\n",
       "      <td>0.0</td>\n",
       "      <td>0.0</td>\n",
       "      <td>...</td>\n",
       "      <td>32.0</td>\n",
       "      <td>0.0</td>\n",
       "      <td>0.0</td>\n",
       "      <td>0.0</td>\n",
       "      <td>0.0</td>\n",
       "      <td>0.0</td>\n",
       "      <td>0.0</td>\n",
       "      <td>0.0</td>\n",
       "      <td>0.0</td>\n",
       "      <td>BENIGN</td>\n",
       "    </tr>\n",
       "  </tbody>\n",
       "</table>\n",
       "<p>5 rows × 79 columns</p>\n",
       "</div>"
      ],
      "text/plain": [
       "  Destination Port Flow Duration Total Fwd Packets Total Backward Packets  \\\n",
       "0             80.0         249.0               2.0                    0.0   \n",
       "1             80.0           1.0               2.0                    0.0   \n",
       "2          55209.0          15.0               1.0                    1.0   \n",
       "3          36778.0           3.0               2.0                    0.0   \n",
       "4          54347.0          25.0               1.0                    1.0   \n",
       "\n",
       "  Total Length of Fwd Packets Total Length of Bwd Packets  \\\n",
       "0                         0.0                         0.0   \n",
       "1                         0.0                         0.0   \n",
       "2                         0.0                         0.0   \n",
       "3                         0.0                         0.0   \n",
       "4                         0.0                         0.0   \n",
       "\n",
       "  Fwd Packet Length Max Fwd Packet Length Min Fwd Packet Length Mean  \\\n",
       "0                   0.0                   0.0                    0.0   \n",
       "1                   0.0                   0.0                    0.0   \n",
       "2                   0.0                   0.0                    0.0   \n",
       "3                   0.0                   0.0                    0.0   \n",
       "4                   0.0                   0.0                    0.0   \n",
       "\n",
       "  Fwd Packet Length Std  ... min_seg_size_forward Active Mean Active Std  \\\n",
       "0                   0.0  ...                 32.0         0.0        0.0   \n",
       "1                   0.0  ...                 32.0         0.0        0.0   \n",
       "2                   0.0  ...                 20.0         0.0        0.0   \n",
       "3                   0.0  ...                 32.0         0.0        0.0   \n",
       "4                   0.0  ...                 32.0         0.0        0.0   \n",
       "\n",
       "  Active Max Active Min Idle Mean Idle Std Idle Max Idle Min   Label  \n",
       "0        0.0        0.0       0.0      0.0      0.0      0.0  ATTACK  \n",
       "1        0.0        0.0       0.0      0.0      0.0      0.0  ATTACK  \n",
       "2        0.0        0.0       0.0      0.0      0.0      0.0  BENIGN  \n",
       "3        0.0        0.0       0.0      0.0      0.0      0.0  BENIGN  \n",
       "4        0.0        0.0       0.0      0.0      0.0      0.0  BENIGN  \n",
       "\n",
       "[5 rows x 79 columns]"
      ]
     },
     "execution_count": 23,
     "metadata": {},
     "output_type": "execute_result"
    }
   ],
   "source": [
    "df_cic_balanced_smote = pd.DataFrame(np_cic_balanced_smote, columns=list(X_train.columns) + ['Label'])\n",
    "df_cic_balanced_smote.head()"
   ]
  },
  {
   "cell_type": "code",
   "execution_count": 24,
   "id": "32c06faa-1edb-4698-93c4-7b808b15f190",
   "metadata": {},
   "outputs": [],
   "source": [
    "df_cic_balanced_smote.to_csv(\"cic_train_sample_binary_smote.csv\", index=False)"
   ]
  }
 ],
 "metadata": {
  "kernelspec": {
   "display_name": "Python 3 (ipykernel)",
   "language": "python",
   "name": "python3"
  },
  "language_info": {
   "codemirror_mode": {
    "name": "ipython",
    "version": 3
   },
   "file_extension": ".py",
   "mimetype": "text/x-python",
   "name": "python",
   "nbconvert_exporter": "python",
   "pygments_lexer": "ipython3",
   "version": "3.10.10"
  }
 },
 "nbformat": 4,
 "nbformat_minor": 5
}
