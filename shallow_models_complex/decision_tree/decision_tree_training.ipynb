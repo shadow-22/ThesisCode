{
 "cells": [
  {
   "cell_type": "code",
   "execution_count": 1,
   "id": "f09adc90-8047-43aa-99c1-f23cc75f25d0",
   "metadata": {},
   "outputs": [],
   "source": [
    "import pandas as pd\n",
    "import numpy as np\n",
    "from sklearn.tree import DecisionTreeClassifier\n",
    "from sklearn.impute import SimpleImputer\n",
    "from sklearn.preprocessing import StandardScaler\n",
    "from sklearn.pipeline import make_pipeline\n",
    "from sklearn import metrics\n",
    "import joblib"
   ]
  },
  {
   "cell_type": "code",
   "execution_count": 2,
   "id": "b7c566a3-b7da-4de9-b07c-a8613bd96d8d",
   "metadata": {},
   "outputs": [],
   "source": [
    "pipe = make_pipeline(\n",
    "    SimpleImputer(), StandardScaler(), DecisionTreeClassifier(max_depth=15)\n",
    ")"
   ]
  },
  {
   "cell_type": "code",
   "execution_count": 3,
   "id": "4b595a2b-25b0-4fa9-bf14-fe4f5815265b",
   "metadata": {},
   "outputs": [],
   "source": [
    "train_dataset_path = 'C:/Users/katsa/OneDrive/Jupyter_files/cic_nb15_hybrid/merged_train_dataset.csv'\n",
    "merged_dataset_train = pd.read_csv(train_dataset_path)\n",
    "X_train, y_train = merged_dataset_train.iloc[:, :-1], merged_dataset_train['Label']"
   ]
  },
  {
   "cell_type": "code",
   "execution_count": 4,
   "id": "86e9ddf7-21ce-4573-9241-74c78a1b27b6",
   "metadata": {},
   "outputs": [],
   "source": [
    "test_dataset_path = 'C:/Users/katsa/OneDrive/Jupyter_files/cic_nb15_hybrid/merged_test_dataset.csv'\n",
    "merged_dataset_test = pd.read_csv(test_dataset_path)\n",
    "X_test, y_test = merged_dataset_test.iloc[:, :-1], merged_dataset_test['Label']"
   ]
  },
  {
   "cell_type": "code",
   "execution_count": 5,
   "id": "31a592ee-50d6-4b1d-a738-b287ad090c37",
   "metadata": {},
   "outputs": [
    {
     "name": "stdout",
     "output_type": "stream",
     "text": [
      "0.9926172603702256\n",
      "              precision    recall  f1-score   support\n",
      "\n",
      "      ATTACK       0.98      0.97      0.98     32550\n",
      "      BENIGN       0.99      1.00      1.00    169543\n",
      "\n",
      "    accuracy                           0.99    202093\n",
      "   macro avg       0.99      0.98      0.99    202093\n",
      "weighted avg       0.99      0.99      0.99    202093\n",
      "\n"
     ]
    }
   ],
   "source": [
    "pipe.fit(X_train.to_numpy(), y_train.to_numpy())\n",
    "predictions = pipe.predict(X_test.to_numpy())\n",
    "print(metrics.accuracy_score(y_test.to_numpy(), predictions))\n",
    "print(metrics.classification_report(y_test.to_numpy(), predictions))"
   ]
  },
  {
   "cell_type": "code",
   "execution_count": 6,
   "id": "1e404838-d435-4f9a-86b4-b3ce16d69479",
   "metadata": {},
   "outputs": [
    {
     "data": {
      "text/plain": [
       "['scaler']"
      ]
     },
     "execution_count": 6,
     "metadata": {},
     "output_type": "execute_result"
    }
   ],
   "source": [
    "joblib.dump(pipe, \"DTmodel\")\n",
    "joblib.dump(pipe[1], \"scaler\")"
   ]
  }
 ],
 "metadata": {
  "kernelspec": {
   "display_name": "Python 3 (ipykernel)",
   "language": "python",
   "name": "python3"
  },
  "language_info": {
   "codemirror_mode": {
    "name": "ipython",
    "version": 3
   },
   "file_extension": ".py",
   "mimetype": "text/x-python",
   "name": "python",
   "nbconvert_exporter": "python",
   "pygments_lexer": "ipython3",
   "version": "3.10.10"
  }
 },
 "nbformat": 4,
 "nbformat_minor": 5
}
