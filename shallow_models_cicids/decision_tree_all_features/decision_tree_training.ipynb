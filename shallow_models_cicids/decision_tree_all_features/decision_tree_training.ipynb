{
 "cells": [
  {
   "cell_type": "code",
   "execution_count": 4,
   "id": "a31a0d40-645b-4eba-bd61-3c7b1c74bfae",
   "metadata": {},
   "outputs": [],
   "source": [
    "import pandas as pd\n",
    "import numpy as np\n",
    "from sklearn.model_selection import train_test_split\n",
    "from sklearn.model_selection import cross_val_score\n",
    "from sklearn.model_selection import GridSearchCV\n",
    "from sklearn.impute import SimpleImputer\n",
    "from sklearn.preprocessing import StandardScaler\n",
    "from sklearn.preprocessing import OneHotEncoder\n",
    "from sklearn.preprocessing import OrdinalEncoder\n",
    "from sklearn.tree import DecisionTreeClassifier\n",
    "from sklearn import metrics\n",
    "import pickle\n",
    "from imblearn.over_sampling import RandomOverSampler\n",
    "from glob import glob\n",
    "import nfstream\n",
    "import matplotlib.pyplot as plt\n",
    "from sklearn.compose import make_column_transformer\n",
    "from sklearn.pipeline import make_pipeline\n",
    "import os.path"
   ]
  },
  {
   "cell_type": "code",
   "execution_count": 5,
   "id": "cbc50514-6491-42e5-9b4c-f603cec82c63",
   "metadata": {},
   "outputs": [],
   "source": [
    "pipe = make_pipeline(\n",
    "    SimpleImputer(), StandardScaler(), DecisionTreeClassifier(max_depth=8)\n",
    ")"
   ]
  },
  {
   "cell_type": "code",
   "execution_count": 6,
   "id": "d984b8be-36f6-4219-9914-3a7153ffa1d3",
   "metadata": {},
   "outputs": [],
   "source": [
    "train_dataset_path = 'C:/Users/katsa/OneDrive/Jupyter_files/shallow_models_online/cic_train_sample_binary.csv'\n",
    "CICDataset_train = pd.read_csv(train_dataset_path)\n",
    "X_train, y_train = CICDataset_train.iloc[:, :-1], CICDataset_train['Label']"
   ]
  },
  {
   "cell_type": "code",
   "execution_count": 7,
   "id": "403acfde-b663-4b1e-8cb7-2d09216fae0c",
   "metadata": {},
   "outputs": [],
   "source": [
    "test_dataset_path = 'C:/Users/katsa/OneDrive/Jupyter_files/shallow_models_online/cic_test_sample_binary.csv'\n",
    "CICDataset_test = pd.read_csv(test_dataset_path)\n",
    "X_test, y_test = CICDataset_test.iloc[:, :-1], CICDataset_test['Label']"
   ]
  },
  {
   "cell_type": "code",
   "execution_count": 8,
   "id": "180aace1-4c47-4e42-8f6a-bb685f53f0da",
   "metadata": {},
   "outputs": [
    {
     "name": "stdout",
     "output_type": "stream",
     "text": [
      "0.9950648946918473\n",
      "              precision    recall  f1-score   support\n",
      "\n",
      "      ATTACK       0.99      0.98      0.99     55763\n",
      "      BENIGN       1.00      1.00      1.00    227311\n",
      "\n",
      "    accuracy                           1.00    283074\n",
      "   macro avg       0.99      0.99      0.99    283074\n",
      "weighted avg       1.00      1.00      1.00    283074\n",
      "\n"
     ]
    }
   ],
   "source": [
    "pipe.fit(X_train.to_numpy(), y_train.to_numpy())\n",
    "predictions = pipe.predict(X_test.to_numpy())\n",
    "print(metrics.accuracy_score(y_test.to_numpy(), predictions))\n",
    "print(metrics.classification_report(y_test.to_numpy(), predictions))"
   ]
  },
  {
   "cell_type": "code",
   "execution_count": 9,
   "id": "d2151f50-39ba-498c-b20d-414c34bcaf98",
   "metadata": {},
   "outputs": [
    {
     "data": {
      "text/plain": [
       "['scaler']"
      ]
     },
     "execution_count": 9,
     "metadata": {},
     "output_type": "execute_result"
    }
   ],
   "source": [
    "import joblib\n",
    "joblib.dump(pipe, \"DTmodel\")\n",
    "joblib.dump(pipe[1], \"scaler\")"
   ]
  }
 ],
 "metadata": {
  "kernelspec": {
   "display_name": "Python 3 (ipykernel)",
   "language": "python",
   "name": "python3"
  },
  "language_info": {
   "codemirror_mode": {
    "name": "ipython",
    "version": 3
   },
   "file_extension": ".py",
   "mimetype": "text/x-python",
   "name": "python",
   "nbconvert_exporter": "python",
   "pygments_lexer": "ipython3",
   "version": "3.10.10"
  }
 },
 "nbformat": 4,
 "nbformat_minor": 5
}
