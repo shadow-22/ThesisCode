{
 "cells": [
  {
   "cell_type": "code",
   "execution_count": 1,
   "id": "a69243f9-0224-4060-9236-2fc2dcb6faa8",
   "metadata": {},
   "outputs": [],
   "source": [
    "from nfstream import NFStreamer, NFPlugin\n",
    "import pandas as pd\n",
    "from sklearn.impute import SimpleImputer\n",
    "import numpy as np"
   ]
  },
  {
   "cell_type": "code",
   "execution_count": 2,
   "id": "fcc6c1eb-54ec-4302-b71d-ec80feaec1d5",
   "metadata": {},
   "outputs": [],
   "source": [
    "import joblib\n",
    "model = joblib.load('DTModel')\n",
    "sscaler = joblib.load('scaler')"
   ]
  },
  {
   "cell_type": "code",
   "execution_count": 3,
   "id": "018406a9-652b-43ba-b814-a1755d75e480",
   "metadata": {},
   "outputs": [
    {
     "ename": "IndentationError",
     "evalue": "expected an indented block after class definition on line 23 (ModelPredictionLive.py, line 24)",
     "output_type": "error",
     "traceback": [
      "Traceback \u001b[1;36m(most recent call last)\u001b[0m:\n",
      "\u001b[0m  File \u001b[0;32m~\\miniconda3\\envs\\thesis\\lib\\site-packages\\IPython\\core\\interactiveshell.py:3460\u001b[0m in \u001b[0;35mrun_code\u001b[0m\n    exec(code_obj, self.user_global_ns, self.user_ns)\u001b[0m\n",
      "\u001b[1;36m  Cell \u001b[1;32mIn[3], line 1\u001b[1;36m\n\u001b[1;33m    from ModelPredictionLive import ModelPrediction\u001b[1;36m\n",
      "\u001b[1;36m  File \u001b[1;32m~\\OneDrive\\Jupyter_files\\cic_nb15_hybrid\\decision_tree\\ModelPredictionLive.py:24\u001b[1;36m\u001b[0m\n\u001b[1;33m    class ModelPrediction(NFPlugin):\u001b[0m\n\u001b[1;37m    ^\u001b[0m\n\u001b[1;31mIndentationError\u001b[0m\u001b[1;31m:\u001b[0m expected an indented block after class definition on line 23\n"
     ]
    }
   ],
   "source": [
    "from ModelPredictionLive import ModelPrediction"
   ]
  },
  {
   "cell_type": "code",
   "execution_count": null,
   "id": "cca6b005-c82e-4cf6-abaa-6674c3562312",
   "metadata": {},
   "outputs": [],
   "source": [
    "# the max_nflows is only implemented in latest version of nfstream!\n",
    "ml_streamer = NFStreamer(source=\"Realtek 8822CE Wireless LAN 802.11ac PCI-E NIC\",\n",
    "                        udps=ModelPrediction(my_model=model, my_scaler=sscaler),\n",
    "                        active_timeout=5, idle_timeout=5,\n",
    "                        statistical_analysis=True)"
   ]
  },
  {
   "cell_type": "code",
   "execution_count": null,
   "id": "9e3e650b-a188-4bd5-9d01-ad5bbd1f7308",
   "metadata": {},
   "outputs": [],
   "source": [
    "with open('C:/Users/katsa/OneDrive/Jupyter_files/make_http_requests/urls.txt', 'r') as f:\n",
    "    url_list = [line.strip() for line in f.readlines()]"
   ]
  },
  {
   "cell_type": "code",
   "execution_count": null,
   "id": "a82508d9-5b56-448e-8592-4a22ef355da1",
   "metadata": {},
   "outputs": [],
   "source": [
    "flows_predictions = []\n",
    "n_normal = 0\n",
    "n_attacks = 0\n",
    "for flow in ml_streamer:\n",
    "    if flow.requested_server_name in url_list:\n",
    "        prediction = flow.udps.model_prediction\n",
    "        flows_predictions.append(prediction)\n",
    "        if prediction == 'BENIGN':\n",
    "            n_normal += 1\n",
    "        elif prediction == 'ATTACK':\n",
    "            n_attacks += 1\n",
    "        print(\"Server name: \" + str(flow.requested_server_name))\n",
    "        print(\"Prediction:\" + str(prediction))\n",
    "        print(\"Number of normal connections so far: \" + str(n_normal))\n",
    "        print(\"Number of attack connections so far: \" + str(n_attacks))\n",
    "        print(\"\")"
   ]
  }
 ],
 "metadata": {
  "kernelspec": {
   "display_name": "Python 3 (ipykernel)",
   "language": "python",
   "name": "python3"
  },
  "language_info": {
   "codemirror_mode": {
    "name": "ipython",
    "version": 3
   },
   "file_extension": ".py",
   "mimetype": "text/x-python",
   "name": "python",
   "nbconvert_exporter": "python",
   "pygments_lexer": "ipython3",
   "version": "3.10.10"
  }
 },
 "nbformat": 4,
 "nbformat_minor": 5
}
