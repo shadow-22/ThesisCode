{
 "cells": [
  {
   "cell_type": "code",
   "execution_count": 22,
   "id": "c185ab52-634f-488f-a8ea-9b0b6947f51b",
   "metadata": {},
   "outputs": [],
   "source": [
    "import csv\n",
    "import glob"
   ]
  },
  {
   "cell_type": "code",
   "execution_count": 23,
   "id": "64aaecd3-1da4-461c-ab29-36c650d1b120",
   "metadata": {},
   "outputs": [
    {
     "name": "stdout",
     "output_type": "stream",
     "text": [
      "['./models\\\\discr_model-lr=0.0002-batch=64-epochs=0.pth', './models\\\\discr_model-lr=0.0002-batch=64-epochs=1.pth', './models\\\\discr_model-lr=0.0002-batch=64-epochs=10.pth', './models\\\\discr_model-lr=0.0002-batch=64-epochs=11.pth', './models\\\\discr_model-lr=0.0002-batch=64-epochs=12.pth', './models\\\\discr_model-lr=0.0002-batch=64-epochs=13.pth', './models\\\\discr_model-lr=0.0002-batch=64-epochs=14.pth', './models\\\\discr_model-lr=0.0002-batch=64-epochs=15.pth', './models\\\\discr_model-lr=0.0002-batch=64-epochs=16.pth', './models\\\\discr_model-lr=0.0002-batch=64-epochs=17.pth', './models\\\\discr_model-lr=0.0002-batch=64-epochs=18.pth', './models\\\\discr_model-lr=0.0002-batch=64-epochs=19.pth', './models\\\\discr_model-lr=0.0002-batch=64-epochs=2.pth', './models\\\\discr_model-lr=0.0002-batch=64-epochs=20.pth', './models\\\\discr_model-lr=0.0002-batch=64-epochs=21.pth', './models\\\\discr_model-lr=0.0002-batch=64-epochs=22.pth', './models\\\\discr_model-lr=0.0002-batch=64-epochs=23.pth', './models\\\\discr_model-lr=0.0002-batch=64-epochs=24.pth', './models\\\\discr_model-lr=0.0002-batch=64-epochs=25.pth', './models\\\\discr_model-lr=0.0002-batch=64-epochs=26.pth', './models\\\\discr_model-lr=0.0002-batch=64-epochs=27.pth', './models\\\\discr_model-lr=0.0002-batch=64-epochs=28.pth', './models\\\\discr_model-lr=0.0002-batch=64-epochs=29.pth', './models\\\\discr_model-lr=0.0002-batch=64-epochs=3.pth', './models\\\\discr_model-lr=0.0002-batch=64-epochs=4.pth', './models\\\\discr_model-lr=0.0002-batch=64-epochs=5.pth', './models\\\\discr_model-lr=0.0002-batch=64-epochs=6.pth', './models\\\\discr_model-lr=0.0002-batch=64-epochs=7.pth', './models\\\\discr_model-lr=0.0002-batch=64-epochs=8.pth', './models\\\\discr_model-lr=0.0002-batch=64-epochs=9.pth']\n"
     ]
    }
   ],
   "source": [
    "discr_models_lst = glob.glob('./models/discr_model*.pth')\n",
    "print(discr_models_lst)"
   ]
  },
  {
   "cell_type": "code",
   "execution_count": 24,
   "id": "c42a7b9d-6641-45b1-a78b-d0d882917c81",
   "metadata": {},
   "outputs": [],
   "source": [
    "folder = 'C:/Users/katsa/OneDrive/Jupyter_files/pytorch/gan_cic_online_47_features/version1.3/test_eval/'"
   ]
  },
  {
   "cell_type": "code",
   "execution_count": 25,
   "id": "d4f0c265-0aef-4031-bed1-815a762962be",
   "metadata": {},
   "outputs": [
    {
     "name": "stdout",
     "output_type": "stream",
     "text": [
      "['C:/Users/katsa/OneDrive/Jupyter_files/pytorch/gan_cic_online_47_features/version1.3/test_eval\\\\output-discr_model-lr=0.0002-batch=64-epochs=0.txt', 'C:/Users/katsa/OneDrive/Jupyter_files/pytorch/gan_cic_online_47_features/version1.3/test_eval\\\\output-discr_model-lr=0.0002-batch=64-epochs=1.txt', 'C:/Users/katsa/OneDrive/Jupyter_files/pytorch/gan_cic_online_47_features/version1.3/test_eval\\\\output-discr_model-lr=0.0002-batch=64-epochs=10.txt', 'C:/Users/katsa/OneDrive/Jupyter_files/pytorch/gan_cic_online_47_features/version1.3/test_eval\\\\output-discr_model-lr=0.0002-batch=64-epochs=11.txt', 'C:/Users/katsa/OneDrive/Jupyter_files/pytorch/gan_cic_online_47_features/version1.3/test_eval\\\\output-discr_model-lr=0.0002-batch=64-epochs=12.txt', 'C:/Users/katsa/OneDrive/Jupyter_files/pytorch/gan_cic_online_47_features/version1.3/test_eval\\\\output-discr_model-lr=0.0002-batch=64-epochs=13.txt', 'C:/Users/katsa/OneDrive/Jupyter_files/pytorch/gan_cic_online_47_features/version1.3/test_eval\\\\output-discr_model-lr=0.0002-batch=64-epochs=14.txt', 'C:/Users/katsa/OneDrive/Jupyter_files/pytorch/gan_cic_online_47_features/version1.3/test_eval\\\\output-discr_model-lr=0.0002-batch=64-epochs=15.txt', 'C:/Users/katsa/OneDrive/Jupyter_files/pytorch/gan_cic_online_47_features/version1.3/test_eval\\\\output-discr_model-lr=0.0002-batch=64-epochs=16.txt', 'C:/Users/katsa/OneDrive/Jupyter_files/pytorch/gan_cic_online_47_features/version1.3/test_eval\\\\output-discr_model-lr=0.0002-batch=64-epochs=17.txt', 'C:/Users/katsa/OneDrive/Jupyter_files/pytorch/gan_cic_online_47_features/version1.3/test_eval\\\\output-discr_model-lr=0.0002-batch=64-epochs=18.txt', 'C:/Users/katsa/OneDrive/Jupyter_files/pytorch/gan_cic_online_47_features/version1.3/test_eval\\\\output-discr_model-lr=0.0002-batch=64-epochs=19.txt', 'C:/Users/katsa/OneDrive/Jupyter_files/pytorch/gan_cic_online_47_features/version1.3/test_eval\\\\output-discr_model-lr=0.0002-batch=64-epochs=2.txt', 'C:/Users/katsa/OneDrive/Jupyter_files/pytorch/gan_cic_online_47_features/version1.3/test_eval\\\\output-discr_model-lr=0.0002-batch=64-epochs=20.txt', 'C:/Users/katsa/OneDrive/Jupyter_files/pytorch/gan_cic_online_47_features/version1.3/test_eval\\\\output-discr_model-lr=0.0002-batch=64-epochs=21.txt', 'C:/Users/katsa/OneDrive/Jupyter_files/pytorch/gan_cic_online_47_features/version1.3/test_eval\\\\output-discr_model-lr=0.0002-batch=64-epochs=22.txt', 'C:/Users/katsa/OneDrive/Jupyter_files/pytorch/gan_cic_online_47_features/version1.3/test_eval\\\\output-discr_model-lr=0.0002-batch=64-epochs=23.txt', 'C:/Users/katsa/OneDrive/Jupyter_files/pytorch/gan_cic_online_47_features/version1.3/test_eval\\\\output-discr_model-lr=0.0002-batch=64-epochs=24.txt', 'C:/Users/katsa/OneDrive/Jupyter_files/pytorch/gan_cic_online_47_features/version1.3/test_eval\\\\output-discr_model-lr=0.0002-batch=64-epochs=25.txt', 'C:/Users/katsa/OneDrive/Jupyter_files/pytorch/gan_cic_online_47_features/version1.3/test_eval\\\\output-discr_model-lr=0.0002-batch=64-epochs=26.txt', 'C:/Users/katsa/OneDrive/Jupyter_files/pytorch/gan_cic_online_47_features/version1.3/test_eval\\\\output-discr_model-lr=0.0002-batch=64-epochs=27.txt', 'C:/Users/katsa/OneDrive/Jupyter_files/pytorch/gan_cic_online_47_features/version1.3/test_eval\\\\output-discr_model-lr=0.0002-batch=64-epochs=28.txt', 'C:/Users/katsa/OneDrive/Jupyter_files/pytorch/gan_cic_online_47_features/version1.3/test_eval\\\\output-discr_model-lr=0.0002-batch=64-epochs=29.txt', 'C:/Users/katsa/OneDrive/Jupyter_files/pytorch/gan_cic_online_47_features/version1.3/test_eval\\\\output-discr_model-lr=0.0002-batch=64-epochs=3.txt', 'C:/Users/katsa/OneDrive/Jupyter_files/pytorch/gan_cic_online_47_features/version1.3/test_eval\\\\output-discr_model-lr=0.0002-batch=64-epochs=4.txt', 'C:/Users/katsa/OneDrive/Jupyter_files/pytorch/gan_cic_online_47_features/version1.3/test_eval\\\\output-discr_model-lr=0.0002-batch=64-epochs=5.txt', 'C:/Users/katsa/OneDrive/Jupyter_files/pytorch/gan_cic_online_47_features/version1.3/test_eval\\\\output-discr_model-lr=0.0002-batch=64-epochs=6.txt', 'C:/Users/katsa/OneDrive/Jupyter_files/pytorch/gan_cic_online_47_features/version1.3/test_eval\\\\output-discr_model-lr=0.0002-batch=64-epochs=7.txt', 'C:/Users/katsa/OneDrive/Jupyter_files/pytorch/gan_cic_online_47_features/version1.3/test_eval\\\\output-discr_model-lr=0.0002-batch=64-epochs=8.txt', 'C:/Users/katsa/OneDrive/Jupyter_files/pytorch/gan_cic_online_47_features/version1.3/test_eval\\\\output-discr_model-lr=0.0002-batch=64-epochs=9.txt']\n"
     ]
    }
   ],
   "source": [
    "output_lst = glob.glob(folder + '*')\n",
    "print(output_lst)"
   ]
  },
  {
   "cell_type": "code",
   "execution_count": 26,
   "id": "2268eb9f-1d74-486b-9c7f-4274b6db2c81",
   "metadata": {},
   "outputs": [
    {
     "name": "stdout",
     "output_type": "stream",
     "text": [
      " Number of correct ATTACK predictions: 43123 \n",
      "43123\n"
     ]
    }
   ],
   "source": [
    "#for file in output_lst:\n",
    "\n",
    "output0 = output_lst[0]\n",
    "with open(output0, 'r') as csvfile:\n",
    "    reader = csv.reader(csvfile, delimiter='|')\n",
    "    row = []\n",
    "    for field in reader:\n",
    "        row.append(field)\n",
    "    print(row[0][3])\n",
    "    print(row[0][3].split(':')[1].strip())"
   ]
  },
  {
   "cell_type": "code",
   "execution_count": 27,
   "id": "03c5322b-4548-4feb-a4dd-df044ce48e93",
   "metadata": {},
   "outputs": [
    {
     "name": "stdout",
     "output_type": "stream",
     "text": [
      "['C:/Users/katsa/OneDrive/Jupyter_files/pytorch/gan_cic_online_47_features/version1.3/test_eval\\\\output-discr_model-lr', '0.0002-batch', '64-epochs', '0.txt']\n",
      "0\n"
     ]
    }
   ],
   "source": [
    "epoch_lst = []\n",
    "#for file in output_list:\n",
    "tmp_lst = output0.split('=')\n",
    "#tmp_lst = file.split('=')\n",
    "print(tmp_lst)\n",
    "epoch = tmp_lst[len(tmp_lst)-1].split('.')[0]\n",
    "print(epoch)"
   ]
  },
  {
   "cell_type": "code",
   "execution_count": 28,
   "id": "db776b2e-3a2e-4b5f-9f19-8b125bc7e01a",
   "metadata": {},
   "outputs": [],
   "source": [
    "# list to store the pairs epochs-accuracy\n",
    "tuple_lst = []\n",
    "\n",
    "for file in output_lst:\n",
    "    # find the number of epochs\n",
    "    tmp = file.split('=')\n",
    "    num_epochs = tmp[len(tmp)-1].split('.')[0]\n",
    "    # find the accuracy\n",
    "    with open(file, 'r') as csvfile:\n",
    "        reader = csv.reader(csvfile, delimiter='|')\n",
    "        row = []\n",
    "        for field in reader:\n",
    "            row.append(field)\n",
    "            accuracy = row[0][3].split(':')[1].strip()\n",
    "    tuple_lst.append((int(num_epochs), float(accuracy)))"
   ]
  },
  {
   "cell_type": "code",
   "execution_count": 29,
   "id": "f71d1dce-ce19-497f-a17b-5fc08df902ad",
   "metadata": {},
   "outputs": [
    {
     "name": "stdout",
     "output_type": "stream",
     "text": [
      "[(0, 43123.0), (1, 42444.0), (10, 30518.0), (11, 48084.0), (12, 43214.0), (13, 36864.0), (14, 35041.0), (15, 34863.0), (16, 34061.0), (17, 47855.0), (18, 49361.0), (19, 31535.0), (2, 43372.0), (20, 49302.0), (21, 50679.0), (22, 50670.0), (23, 50121.0), (24, 50865.0), (25, 36999.0), (26, 52449.0), (27, 51098.0), (28, 51661.0), (29, 51476.0), (3, 28979.0), (4, 31843.0), (5, 33470.0), (6, 32112.0), (7, 28114.0), (8, 29073.0), (9, 39422.0)]\n"
     ]
    }
   ],
   "source": [
    "print(tuple_lst)"
   ]
  },
  {
   "cell_type": "code",
   "execution_count": 30,
   "id": "77666f4e-ca8c-4b41-9949-b7342e41c69a",
   "metadata": {},
   "outputs": [],
   "source": [
    "import matplotlib.pyplot as plt"
   ]
  },
  {
   "cell_type": "code",
   "execution_count": 31,
   "id": "61a88515-d3ea-4e5f-8a5e-44a624fc8ed4",
   "metadata": {},
   "outputs": [
    {
     "data": {
      "image/png": "[encoded data removed]",
      "text/plain": [
       "<Figure size 640x480 with 1 Axes>"
      ]
     },
     "metadata": {},
     "output_type": "display_data"
    }
   ],
   "source": [
    "\n",
    "# separate the x and y values from the tuples\n",
    "x_values = [point[0] for point in tuple_lst]\n",
    "y_values = [point[1] for point in tuple_lst]\n",
    "\n",
    "# plot the points using the scatter() function\n",
    "plt.scatter(x_values, y_values)\n",
    "\n",
    "plt.xlabel('Epochs')\n",
    "plt.ylabel('Accuracy, True Attacks')\n",
    "\n",
    "# save the graph\n",
    "plt.savefig('epoch_vs_accuracy_plot.png')\n",
    "\n",
    "# show the plot\n",
    "plt.show()"
   ]
  }
 ],
 "metadata": {
  "kernelspec": {
   "display_name": "Python 3 (ipykernel)",
   "language": "python",
   "name": "python3"
  },
  "language_info": {
   "codemirror_mode": {
    "name": "ipython",
    "version": 3
   },
   "file_extension": ".py",
   "mimetype": "text/x-python",
   "name": "python",
   "nbconvert_exporter": "python",
   "pygments_lexer": "ipython3",
   "version": "3.10.10"
  }
 },
 "nbformat": 4,
 "nbformat_minor": 5
}
